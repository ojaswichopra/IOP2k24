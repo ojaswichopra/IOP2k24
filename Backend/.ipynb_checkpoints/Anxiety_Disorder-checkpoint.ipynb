{
 "cells": [
  {
   "cell_type": "code",
   "execution_count": 3,
   "id": "b185fc74",
   "metadata": {},
   "outputs": [
    {
     "name": "stderr",
     "output_type": "stream",
     "text": [
      "C:\\Users\\prash\\anaconda3\\lib\\site-packages\\scipy\\__init__.py:146: UserWarning: A NumPy version >=1.16.5 and <1.23.0 is required for this version of SciPy (detected version 1.26.4\n",
      "  warnings.warn(f\"A NumPy version >={np_minversion} and <{np_maxversion}\"\n"
     ]
    }
   ],
   "source": [
    "import pandas as pd\n",
    "import numpy as np\n",
    "import matplotlib.pyplot as plt\n",
    "import seaborn as sns\n",
    "from sklearn.model_selection import train_test_split\n",
    "from sklearn.impute import SimpleImputer\n",
    "from sklearn.preprocessing import StandardScaler\n",
    "from sklearn.compose import ColumnTransformer\n",
    "from sklearn.pipeline import Pipeline\n",
    "from sklearn.ensemble import RandomForestClassifier\n",
    "from sklearn.metrics import accuracy_score, precision_score, recall_score, f1_score\n",
    "from sklearn.metrics import confusion_matrix\n",
    "import warnings\n",
    "warnings.filterwarnings(\"ignore\")"
   ]
  },
  {
   "cell_type": "code",
   "execution_count": 4,
   "id": "843eef7d",
   "metadata": {},
   "outputs": [
    {
     "data": {
      "text/html": [
       "<div>\n",
       "<style scoped>\n",
       "    .dataframe tbody tr th:only-of-type {\n",
       "        vertical-align: middle;\n",
       "    }\n",
       "\n",
       "    .dataframe tbody tr th {\n",
       "        vertical-align: top;\n",
       "    }\n",
       "\n",
       "    .dataframe thead th {\n",
       "        text-align: right;\n",
       "    }\n",
       "</style>\n",
       "<table border=\"1\" class=\"dataframe\">\n",
       "  <thead>\n",
       "    <tr style=\"text-align: right;\">\n",
       "      <th></th>\n",
       "      <th>Subject</th>\n",
       "      <th>Irritability</th>\n",
       "      <th>Increased unnecessary whole body movements in specific situations</th>\n",
       "      <th>Difficulty concentrating on tasks or play activity independently</th>\n",
       "      <th>Difficulty concentrating on adult-directed tasks or play activities</th>\n",
       "      <th>Inattention</th>\n",
       "      <th>Fear about possible harm befalling major attachment figures</th>\n",
       "      <th>Onset Fear about possible harm befalling major attachment figures</th>\n",
       "      <th>Fear about calamitous separation</th>\n",
       "      <th>Onset Fear about calamitous separation</th>\n",
       "      <th>...</th>\n",
       "      <th>Worry about the future</th>\n",
       "      <th>Worries about natural calamity</th>\n",
       "      <th>Worries about past behavior</th>\n",
       "      <th>Worries about competence or performance</th>\n",
       "      <th>Worries about appearance</th>\n",
       "      <th>Worries about money/food</th>\n",
       "      <th>Other worries</th>\n",
       "      <th>Sampling Weight</th>\n",
       "      <th>SAD</th>\n",
       "      <th>GAD</th>\n",
       "    </tr>\n",
       "  </thead>\n",
       "  <tbody>\n",
       "    <tr>\n",
       "      <th>0</th>\n",
       "      <td>Train001</td>\n",
       "      <td>2.0</td>\n",
       "      <td>2.0</td>\n",
       "      <td>0.0</td>\n",
       "      <td>0.0</td>\n",
       "      <td>2.0</td>\n",
       "      <td>0.0</td>\n",
       "      <td>NaN</td>\n",
       "      <td>0.0</td>\n",
       "      <td>NaN</td>\n",
       "      <td>...</td>\n",
       "      <td>0</td>\n",
       "      <td>0</td>\n",
       "      <td>0</td>\n",
       "      <td>0</td>\n",
       "      <td>0</td>\n",
       "      <td>0</td>\n",
       "      <td>0</td>\n",
       "      <td>0.302648</td>\n",
       "      <td>0</td>\n",
       "      <td>0</td>\n",
       "    </tr>\n",
       "    <tr>\n",
       "      <th>1</th>\n",
       "      <td>Train002</td>\n",
       "      <td>0.0</td>\n",
       "      <td>0.0</td>\n",
       "      <td>0.0</td>\n",
       "      <td>0.0</td>\n",
       "      <td>0.0</td>\n",
       "      <td>2.0</td>\n",
       "      <td>312.0</td>\n",
       "      <td>0.0</td>\n",
       "      <td>NaN</td>\n",
       "      <td>...</td>\n",
       "      <td>0</td>\n",
       "      <td>0</td>\n",
       "      <td>0</td>\n",
       "      <td>0</td>\n",
       "      <td>0</td>\n",
       "      <td>0</td>\n",
       "      <td>2</td>\n",
       "      <td>0.332575</td>\n",
       "      <td>1</td>\n",
       "      <td>1</td>\n",
       "    </tr>\n",
       "    <tr>\n",
       "      <th>2</th>\n",
       "      <td>Train003</td>\n",
       "      <td>0.0</td>\n",
       "      <td>0.0</td>\n",
       "      <td>2.0</td>\n",
       "      <td>0.0</td>\n",
       "      <td>0.0</td>\n",
       "      <td>0.0</td>\n",
       "      <td>NaN</td>\n",
       "      <td>0.0</td>\n",
       "      <td>NaN</td>\n",
       "      <td>...</td>\n",
       "      <td>0</td>\n",
       "      <td>0</td>\n",
       "      <td>0</td>\n",
       "      <td>0</td>\n",
       "      <td>0</td>\n",
       "      <td>0</td>\n",
       "      <td>0</td>\n",
       "      <td>0.332575</td>\n",
       "      <td>1</td>\n",
       "      <td>0</td>\n",
       "    </tr>\n",
       "    <tr>\n",
       "      <th>3</th>\n",
       "      <td>Train004</td>\n",
       "      <td>3.0</td>\n",
       "      <td>2.0</td>\n",
       "      <td>3.0</td>\n",
       "      <td>2.0</td>\n",
       "      <td>2.0</td>\n",
       "      <td>0.0</td>\n",
       "      <td>NaN</td>\n",
       "      <td>0.0</td>\n",
       "      <td>NaN</td>\n",
       "      <td>...</td>\n",
       "      <td>0</td>\n",
       "      <td>0</td>\n",
       "      <td>0</td>\n",
       "      <td>0</td>\n",
       "      <td>0</td>\n",
       "      <td>0</td>\n",
       "      <td>0</td>\n",
       "      <td>0.332575</td>\n",
       "      <td>0</td>\n",
       "      <td>0</td>\n",
       "    </tr>\n",
       "    <tr>\n",
       "      <th>4</th>\n",
       "      <td>Train005</td>\n",
       "      <td>2.0</td>\n",
       "      <td>0.0</td>\n",
       "      <td>0.0</td>\n",
       "      <td>0.0</td>\n",
       "      <td>0.0</td>\n",
       "      <td>0.0</td>\n",
       "      <td>NaN</td>\n",
       "      <td>0.0</td>\n",
       "      <td>NaN</td>\n",
       "      <td>...</td>\n",
       "      <td>0</td>\n",
       "      <td>0</td>\n",
       "      <td>0</td>\n",
       "      <td>0</td>\n",
       "      <td>0</td>\n",
       "      <td>0</td>\n",
       "      <td>0</td>\n",
       "      <td>5.345884</td>\n",
       "      <td>0</td>\n",
       "      <td>0</td>\n",
       "    </tr>\n",
       "  </tbody>\n",
       "</table>\n",
       "<p>5 rows × 80 columns</p>\n",
       "</div>"
      ],
      "text/plain": [
       "    Subject  Irritability  \\\n",
       "0  Train001           2.0   \n",
       "1  Train002           0.0   \n",
       "2  Train003           0.0   \n",
       "3  Train004           3.0   \n",
       "4  Train005           2.0   \n",
       "\n",
       "   Increased unnecessary whole body movements in specific situations  \\\n",
       "0                                                2.0                   \n",
       "1                                                0.0                   \n",
       "2                                                0.0                   \n",
       "3                                                2.0                   \n",
       "4                                                0.0                   \n",
       "\n",
       "   Difficulty concentrating on tasks or play activity independently  \\\n",
       "0                                                0.0                  \n",
       "1                                                0.0                  \n",
       "2                                                2.0                  \n",
       "3                                                3.0                  \n",
       "4                                                0.0                  \n",
       "\n",
       "   Difficulty concentrating on adult-directed tasks or play activities  \\\n",
       "0                                                0.0                     \n",
       "1                                                0.0                     \n",
       "2                                                0.0                     \n",
       "3                                                2.0                     \n",
       "4                                                0.0                     \n",
       "\n",
       "   Inattention  Fear about possible harm befalling major attachment figures  \\\n",
       "0          2.0                                                0.0             \n",
       "1          0.0                                                2.0             \n",
       "2          0.0                                                0.0             \n",
       "3          2.0                                                0.0             \n",
       "4          0.0                                                0.0             \n",
       "\n",
       "   Onset Fear about possible harm befalling major attachment figures  \\\n",
       "0                                                NaN                   \n",
       "1                                              312.0                   \n",
       "2                                                NaN                   \n",
       "3                                                NaN                   \n",
       "4                                                NaN                   \n",
       "\n",
       "   Fear about calamitous separation  Onset Fear about calamitous separation  \\\n",
       "0                               0.0                                     NaN   \n",
       "1                               0.0                                     NaN   \n",
       "2                               0.0                                     NaN   \n",
       "3                               0.0                                     NaN   \n",
       "4                               0.0                                     NaN   \n",
       "\n",
       "   ...  Worry about the future  Worries about natural calamity  \\\n",
       "0  ...                       0                               0   \n",
       "1  ...                       0                               0   \n",
       "2  ...                       0                               0   \n",
       "3  ...                       0                               0   \n",
       "4  ...                       0                               0   \n",
       "\n",
       "   Worries about past behavior  Worries about competence or performance  \\\n",
       "0                            0                                        0   \n",
       "1                            0                                        0   \n",
       "2                            0                                        0   \n",
       "3                            0                                        0   \n",
       "4                            0                                        0   \n",
       "\n",
       "   Worries about appearance  Worries about money/food  Other worries  \\\n",
       "0                         0                         0              0   \n",
       "1                         0                         0              2   \n",
       "2                         0                         0              0   \n",
       "3                         0                         0              0   \n",
       "4                         0                         0              0   \n",
       "\n",
       "   Sampling Weight  SAD  GAD  \n",
       "0         0.302648    0    0  \n",
       "1         0.332575    1    1  \n",
       "2         0.332575    1    0  \n",
       "3         0.332575    0    0  \n",
       "4         5.345884    0    0  \n",
       "\n",
       "[5 rows x 80 columns]"
      ]
     },
     "execution_count": 4,
     "metadata": {},
     "output_type": "execute_result"
    }
   ],
   "source": [
    "df  = pd.read_excel(r\"C:\\Users\\prash\\Downloads\\anxiety_disorder\\Training Data.xlsx\")\n",
    "df.head()"
   ]
  },
  {
   "cell_type": "code",
   "execution_count": 5,
   "id": "51a19295",
   "metadata": {},
   "outputs": [],
   "source": [
    "X_train = df.drop(['SAD', 'GAD',\"Subject\",\"Onset Child tries unsuccessfully to leave daycare/school due to anxiety\",\"Onset Has to be taken to daycare/school because of separation anxiety\",\"Onset Fear about calamitous separation\",\"Onset Child leaves daycare/school due to anxiety\"], axis=1)\n",
    "y_SAD = df['SAD']\n",
    "y_GAD = df['GAD']"
   ]
  },
  {
   "cell_type": "code",
   "execution_count": 7,
   "id": "026abffb",
   "metadata": {},
   "outputs": [],
   "source": [
    "numerical_cols = X_train.select_dtypes(include=['int64', 'float64']).columns\n",
    "numerical_transformer = Pipeline(steps=[\n",
    "    ('imputer', SimpleImputer(strategy='median')),\n",
    "    ('scaler', StandardScaler())\n",
    "])"
   ]
  },
  {
   "cell_type": "code",
   "execution_count": 8,
   "id": "16432319",
   "metadata": {},
   "outputs": [],
   "source": [
    "preprocessor = ColumnTransformer(\n",
    "    transformers=[\n",
    "        ('num', numerical_transformer, numerical_cols),\n",
    "    ])"
   ]
  },
  {
   "cell_type": "code",
   "execution_count": 9,
   "id": "6b7b2ce3",
   "metadata": {},
   "outputs": [],
   "source": [
    "model = RandomForestClassifier(n_estimators=917, random_state=0)"
   ]
  },
  {
   "cell_type": "code",
   "execution_count": 10,
   "id": "eecf5ad6",
   "metadata": {},
   "outputs": [],
   "source": [
    "pipeline_SAD = Pipeline(steps=[('preprocessor',preprocessor),\n",
    "                               ('model', model)])"
   ]
  },
  {
   "cell_type": "code",
   "execution_count": 19,
   "id": "8f432e9a",
   "metadata": {},
   "outputs": [],
   "source": [
    "X_train_SAD, X_test_SAD, y_train_SAD, y_test_SAD = train_test_split(X_train, y_SAD, test_size=0.2, random_state=0)"
   ]
  },
  {
   "cell_type": "code",
   "execution_count": 20,
   "id": "10bf5d24",
   "metadata": {},
   "outputs": [
    {
     "data": {
      "text/plain": [
       "Pipeline(steps=[('preprocessor',\n",
       "                 ColumnTransformer(transformers=[('num',\n",
       "                                                  Pipeline(steps=[('imputer',\n",
       "                                                                   SimpleImputer(strategy='median')),\n",
       "                                                                  ('scaler',\n",
       "                                                                   StandardScaler())]),\n",
       "                                                  Index(['Irritability',\n",
       "       'Increased unnecessary whole body movements in specific situations',\n",
       "       'Difficulty concentrating on tasks or play activity independently',\n",
       "       'Difficulty concentrating on adult-directed tasks...\n",
       "       'Frequency of worries', 'Hypochondriasis',\n",
       "       'Worry that family members will become ill', 'Worry about the future',\n",
       "       'Worries about natural calamity', 'Worries about past behavior',\n",
       "       'Worries about competence or performance', 'Worries about appearance',\n",
       "       'Worries about money/food', 'Other worries', 'Sampling Weight'],\n",
       "      dtype='object'))])),\n",
       "                ('model',\n",
       "                 RandomForestClassifier(n_estimators=917, random_state=0))])"
      ]
     },
     "execution_count": 20,
     "metadata": {},
     "output_type": "execute_result"
    }
   ],
   "source": [
    "pipeline_SAD.fit(X_train_SAD, y_train_SAD)"
   ]
  },
  {
   "cell_type": "code",
   "execution_count": 21,
   "id": "0fe72361",
   "metadata": {},
   "outputs": [],
   "source": [
    "y_pred_SAD = pipeline_SAD.predict(X_test_SAD)"
   ]
  },
  {
   "cell_type": "code",
   "execution_count": 22,
   "id": "f7047eb0",
   "metadata": {},
   "outputs": [
    {
     "name": "stdout",
     "output_type": "stream",
     "text": [
      "\n",
      "Classification Report:\n",
      "              precision    recall  f1-score   support\n",
      "\n",
      "           0       0.95      0.99      0.97       141\n",
      "           1       0.95      0.84      0.89        43\n",
      "\n",
      "    accuracy                           0.95       184\n",
      "   macro avg       0.95      0.91      0.93       184\n",
      "weighted avg       0.95      0.95      0.95       184\n",
      "\n"
     ]
    }
   ],
   "source": [
    "from sklearn.metrics import confusion_matrix, classification_report\n",
    "cr = classification_report(y_test_SAD, y_pred_SAD)\n",
    "print(\"\\nClassification Report:\")\n",
    "print(cr)"
   ]
  },
  {
   "cell_type": "code",
   "execution_count": 31,
   "id": "9e066cb7",
   "metadata": {},
   "outputs": [
    {
     "name": "stdout",
     "output_type": "stream",
     "text": [
      "Confusion Matrix:\n",
      "[[139   2]\n",
      " [  7  36]]\n"
     ]
    }
   ],
   "source": [
    "cm = confusion_matrix(y_test_SAD, y_pred_SAD)\n",
    "print(\"Confusion Matrix:\")\n",
    "print(cm)"
   ]
  },
  {
   "cell_type": "code",
   "execution_count": 26,
   "id": "5b053057",
   "metadata": {},
   "outputs": [],
   "source": [
    "pipeline_GAD = Pipeline(steps=[('preprocessor', preprocessor),\n",
    "                               ('model', RandomForestClassifier(n_estimators=917, random_state=0))])"
   ]
  },
  {
   "cell_type": "code",
   "execution_count": 27,
   "id": "9b6b25c7",
   "metadata": {},
   "outputs": [],
   "source": [
    "X_train_GAD, X_test_GAD, y_train_GAD, y_test_GAD = train_test_split(X_train, y_GAD, test_size=0.2, random_state=0)"
   ]
  },
  {
   "cell_type": "code",
   "execution_count": 28,
   "id": "5e5368ad",
   "metadata": {},
   "outputs": [
    {
     "data": {
      "text/plain": [
       "Pipeline(steps=[('preprocessor',\n",
       "                 ColumnTransformer(transformers=[('num',\n",
       "                                                  Pipeline(steps=[('imputer',\n",
       "                                                                   SimpleImputer(strategy='median')),\n",
       "                                                                  ('scaler',\n",
       "                                                                   StandardScaler())]),\n",
       "                                                  Index(['Irritability',\n",
       "       'Increased unnecessary whole body movements in specific situations',\n",
       "       'Difficulty concentrating on tasks or play activity independently',\n",
       "       'Difficulty concentrating on adult-directed tasks...\n",
       "       'Frequency of worries', 'Hypochondriasis',\n",
       "       'Worry that family members will become ill', 'Worry about the future',\n",
       "       'Worries about natural calamity', 'Worries about past behavior',\n",
       "       'Worries about competence or performance', 'Worries about appearance',\n",
       "       'Worries about money/food', 'Other worries', 'Sampling Weight'],\n",
       "      dtype='object'))])),\n",
       "                ('model',\n",
       "                 RandomForestClassifier(n_estimators=917, random_state=0))])"
      ]
     },
     "execution_count": 28,
     "metadata": {},
     "output_type": "execute_result"
    }
   ],
   "source": [
    "pipeline_GAD.fit(X_train_GAD, y_train_GAD)"
   ]
  },
  {
   "cell_type": "code",
   "execution_count": 29,
   "id": "a44f4882",
   "metadata": {},
   "outputs": [],
   "source": [
    "y_pred_GAD = pipeline_GAD.predict(X_test_GAD)"
   ]
  },
  {
   "cell_type": "code",
   "execution_count": 30,
   "id": "4a17ec93",
   "metadata": {},
   "outputs": [
    {
     "name": "stdout",
     "output_type": "stream",
     "text": [
      "\n",
      "Classification Report:\n",
      "              precision    recall  f1-score   support\n",
      "\n",
      "           0       1.00      0.92      0.96       145\n",
      "           1       0.78      1.00      0.88        39\n",
      "\n",
      "    accuracy                           0.94       184\n",
      "   macro avg       0.89      0.96      0.92       184\n",
      "weighted avg       0.95      0.94      0.94       184\n",
      "\n"
     ]
    }
   ],
   "source": [
    "cr2 = classification_report(y_test_GAD, y_pred_GAD)\n",
    "print(\"\\nClassification Report:\")\n",
    "print(cr2)"
   ]
  },
  {
   "cell_type": "code",
   "execution_count": 32,
   "id": "873b3e06",
   "metadata": {},
   "outputs": [
    {
     "name": "stdout",
     "output_type": "stream",
     "text": [
      "Confusion Matrix:\n",
      "[[134  11]\n",
      " [  0  39]]\n"
     ]
    }
   ],
   "source": [
    "cm2 = confusion_matrix(y_test_GAD, y_pred_GAD)\n",
    "print(\"Confusion Matrix:\")\n",
    "print(cm2)"
   ]
  },
  {
   "cell_type": "code",
   "execution_count": null,
   "id": "2085c353",
   "metadata": {},
   "outputs": [],
   "source": []
  }
 ],
 "metadata": {
  "kernelspec": {
   "display_name": "Python 3 (ipykernel)",
   "language": "python",
   "name": "python3"
  },
  "language_info": {
   "codemirror_mode": {
    "name": "ipython",
    "version": 3
   },
   "file_extension": ".py",
   "mimetype": "text/x-python",
   "name": "python",
   "nbconvert_exporter": "python",
   "pygments_lexer": "ipython3",
   "version": "3.9.13"
  }
 },
 "nbformat": 4,
 "nbformat_minor": 5
}
