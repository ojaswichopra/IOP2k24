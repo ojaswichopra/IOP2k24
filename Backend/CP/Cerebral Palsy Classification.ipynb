{
 "cells": [
  {
   "cell_type": "markdown",
   "id": "91ce4feb",
   "metadata": {},
   "source": [
    "### CP (Cerebral Palsy) is the most common cause of motor disability in childhood."
   ]
  },
  {
   "cell_type": "markdown",
   "id": "e6231b7a",
   "metadata": {},
   "source": [
    "#### Importing necessary libraries"
   ]
  },
  {
   "cell_type": "code",
   "execution_count": 1,
   "id": "f81e6a67",
   "metadata": {},
   "outputs": [],
   "source": [
    "import matplotlib.pyplot as plt\n",
    "import pandas as pd\n",
    "import numpy as np"
   ]
  },
  {
   "cell_type": "markdown",
   "id": "2678597a",
   "metadata": {},
   "source": [
    "#### Load the data"
   ]
  },
  {
   "cell_type": "code",
   "execution_count": 2,
   "id": "1b77ee4f",
   "metadata": {
    "scrolled": true
   },
   "outputs": [
    {
     "data": {
      "text/html": [
       "<div>\n",
       "<style scoped>\n",
       "    .dataframe tbody tr th:only-of-type {\n",
       "        vertical-align: middle;\n",
       "    }\n",
       "\n",
       "    .dataframe tbody tr th {\n",
       "        vertical-align: top;\n",
       "    }\n",
       "\n",
       "    .dataframe thead th {\n",
       "        text-align: right;\n",
       "    }\n",
       "</style>\n",
       "<table border=\"1\" class=\"dataframe\">\n",
       "  <thead>\n",
       "    <tr style=\"text-align: right;\">\n",
       "      <th></th>\n",
       "      <th>Main1_ID</th>\n",
       "      <th>Main2_Assessment_Date</th>\n",
       "      <th>Main3_Age_at_Assessment</th>\n",
       "      <th>A1_Child_DoB</th>\n",
       "      <th>A2_Child_Gender</th>\n",
       "      <th>A4_Mother_DoB</th>\n",
       "      <th>A5_Mother_Age_at_Assessment</th>\n",
       "      <th>A6_Mother_Education</th>\n",
       "      <th>A7_Mother_Past_Occ</th>\n",
       "      <th>A8_Mother_Curr_Occ</th>\n",
       "      <th>...</th>\n",
       "      <th>H39_Pincer_Grasp_Pattern_L</th>\n",
       "      <th>H40_Pincer_Grasp_Pattern_L_Other</th>\n",
       "      <th>H41_Hand_Release_R</th>\n",
       "      <th>H42_Hand_Release_R_Blocks</th>\n",
       "      <th>H43_Hand_Release_L</th>\n",
       "      <th>H44_Hand_Release_L_Blocks</th>\n",
       "      <th>F2_CP_Type_Assessor_Report (text)</th>\n",
       "      <th>Name</th>\n",
       "      <th>Address</th>\n",
       "      <th>Contact</th>\n",
       "    </tr>\n",
       "  </thead>\n",
       "  <tbody>\n",
       "    <tr>\n",
       "      <th>0</th>\n",
       "      <td>3</td>\n",
       "      <td>2013-02-28</td>\n",
       "      <td>1.614964</td>\n",
       "      <td>2011-07-19</td>\n",
       "      <td>1</td>\n",
       "      <td>1985-03-21 21:36:57.219</td>\n",
       "      <td>31.535563</td>\n",
       "      <td>1</td>\n",
       "      <td>6</td>\n",
       "      <td>6</td>\n",
       "      <td>...</td>\n",
       "      <td>1</td>\n",
       "      <td>0</td>\n",
       "      <td>1</td>\n",
       "      <td>0</td>\n",
       "      <td>2</td>\n",
       "      <td>0</td>\n",
       "      <td>Spastic</td>\n",
       "      <td>John Smith</td>\n",
       "      <td>123 Main St</td>\n",
       "      <td>555-1234</td>\n",
       "    </tr>\n",
       "    <tr>\n",
       "      <th>1</th>\n",
       "      <td>22</td>\n",
       "      <td>2013-11-29</td>\n",
       "      <td>4.107338</td>\n",
       "      <td>2009-10-21</td>\n",
       "      <td>2</td>\n",
       "      <td>1987-10-05 00:00:00.000</td>\n",
       "      <td>26.151288</td>\n",
       "      <td>1</td>\n",
       "      <td>1</td>\n",
       "      <td>6</td>\n",
       "      <td>...</td>\n",
       "      <td>3</td>\n",
       "      <td>0</td>\n",
       "      <td>4</td>\n",
       "      <td>8</td>\n",
       "      <td>4</td>\n",
       "      <td>8</td>\n",
       "      <td>Spastic</td>\n",
       "      <td>Emily Johnson</td>\n",
       "      <td>456 Elm St</td>\n",
       "      <td>555-5678</td>\n",
       "    </tr>\n",
       "    <tr>\n",
       "      <th>2</th>\n",
       "      <td>4</td>\n",
       "      <td>2013-09-26</td>\n",
       "      <td>2.663321</td>\n",
       "      <td>2011-01-27</td>\n",
       "      <td>2</td>\n",
       "      <td>1977-02-26 00:00:00.000</td>\n",
       "      <td>36.581101</td>\n",
       "      <td>3</td>\n",
       "      <td>6</td>\n",
       "      <td>6</td>\n",
       "      <td>...</td>\n",
       "      <td>4</td>\n",
       "      <td>0</td>\n",
       "      <td>3</td>\n",
       "      <td>0</td>\n",
       "      <td>3</td>\n",
       "      <td>0</td>\n",
       "      <td>Ataxic</td>\n",
       "      <td>Michael Williams</td>\n",
       "      <td>789 Oak St</td>\n",
       "      <td>555-9012</td>\n",
       "    </tr>\n",
       "    <tr>\n",
       "      <th>3</th>\n",
       "      <td>5</td>\n",
       "      <td>2013-11-10</td>\n",
       "      <td>2.159672</td>\n",
       "      <td>2011-09-13</td>\n",
       "      <td>2</td>\n",
       "      <td>1987-09-09 00:00:00.000</td>\n",
       "      <td>26.170452</td>\n",
       "      <td>4</td>\n",
       "      <td>6</td>\n",
       "      <td>6</td>\n",
       "      <td>...</td>\n",
       "      <td>1</td>\n",
       "      <td>0</td>\n",
       "      <td>1</td>\n",
       "      <td>0</td>\n",
       "      <td>1</td>\n",
       "      <td>0</td>\n",
       "      <td>Spastic</td>\n",
       "      <td>Sarah Brown</td>\n",
       "      <td>321 Pine St</td>\n",
       "      <td>555-3456</td>\n",
       "    </tr>\n",
       "    <tr>\n",
       "      <th>4</th>\n",
       "      <td>33</td>\n",
       "      <td>2014-01-14</td>\n",
       "      <td>2.809035</td>\n",
       "      <td>2011-03-25</td>\n",
       "      <td>1</td>\n",
       "      <td>1985-01-01 00:00:00.000</td>\n",
       "      <td>29.036233</td>\n",
       "      <td>1</td>\n",
       "      <td>6</td>\n",
       "      <td>6</td>\n",
       "      <td>...</td>\n",
       "      <td>4</td>\n",
       "      <td>0</td>\n",
       "      <td>4</td>\n",
       "      <td>9</td>\n",
       "      <td>4</td>\n",
       "      <td>6</td>\n",
       "      <td>Spastic</td>\n",
       "      <td>David Jones</td>\n",
       "      <td>654 Maple St</td>\n",
       "      <td>555-7890</td>\n",
       "    </tr>\n",
       "    <tr>\n",
       "      <th>...</th>\n",
       "      <td>...</td>\n",
       "      <td>...</td>\n",
       "      <td>...</td>\n",
       "      <td>...</td>\n",
       "      <td>...</td>\n",
       "      <td>...</td>\n",
       "      <td>...</td>\n",
       "      <td>...</td>\n",
       "      <td>...</td>\n",
       "      <td>...</td>\n",
       "      <td>...</td>\n",
       "      <td>...</td>\n",
       "      <td>...</td>\n",
       "      <td>...</td>\n",
       "      <td>...</td>\n",
       "      <td>...</td>\n",
       "      <td>...</td>\n",
       "      <td>...</td>\n",
       "      <td>...</td>\n",
       "      <td>...</td>\n",
       "      <td>...</td>\n",
       "    </tr>\n",
       "    <tr>\n",
       "      <th>300</th>\n",
       "      <td>215</td>\n",
       "      <td>2018-10-16</td>\n",
       "      <td>2.170620</td>\n",
       "      <td>2016-08-14</td>\n",
       "      <td>1</td>\n",
       "      <td>1990-08-02 00:00:00.000</td>\n",
       "      <td>28.206005</td>\n",
       "      <td>3</td>\n",
       "      <td>6</td>\n",
       "      <td>6</td>\n",
       "      <td>...</td>\n",
       "      <td>4</td>\n",
       "      <td>0</td>\n",
       "      <td>4</td>\n",
       "      <td>10</td>\n",
       "      <td>4</td>\n",
       "      <td>10</td>\n",
       "      <td>Spastic</td>\n",
       "      <td>Daniel Ward</td>\n",
       "      <td>876 Maple St</td>\n",
       "      <td>555-6789</td>\n",
       "    </tr>\n",
       "    <tr>\n",
       "      <th>301</th>\n",
       "      <td>242</td>\n",
       "      <td>2019-02-05</td>\n",
       "      <td>1.597260</td>\n",
       "      <td>2017-07-02</td>\n",
       "      <td>1</td>\n",
       "      <td>1988-08-18 00:00:00.000</td>\n",
       "      <td>30.466804</td>\n",
       "      <td>2</td>\n",
       "      <td>6</td>\n",
       "      <td>6</td>\n",
       "      <td>...</td>\n",
       "      <td>1</td>\n",
       "      <td>0</td>\n",
       "      <td>1</td>\n",
       "      <td>0</td>\n",
       "      <td>1</td>\n",
       "      <td>0</td>\n",
       "      <td>Spastic</td>\n",
       "      <td>Zoey Cox</td>\n",
       "      <td>1098 Pine St</td>\n",
       "      <td>555-0123</td>\n",
       "    </tr>\n",
       "    <tr>\n",
       "      <th>302</th>\n",
       "      <td>259</td>\n",
       "      <td>2019-04-21</td>\n",
       "      <td>6.252347</td>\n",
       "      <td>2013-01-19</td>\n",
       "      <td>1</td>\n",
       "      <td>1986-12-26 00:00:00.000</td>\n",
       "      <td>32.318892</td>\n",
       "      <td>2</td>\n",
       "      <td>6</td>\n",
       "      <td>6</td>\n",
       "      <td>...</td>\n",
       "      <td>1</td>\n",
       "      <td>0</td>\n",
       "      <td>2</td>\n",
       "      <td>0</td>\n",
       "      <td>2</td>\n",
       "      <td>0</td>\n",
       "      <td>Dyskineti</td>\n",
       "      <td>Hudson Ramirez</td>\n",
       "      <td>321 Oak St</td>\n",
       "      <td>555-4567</td>\n",
       "    </tr>\n",
       "    <tr>\n",
       "      <th>303</th>\n",
       "      <td>282</td>\n",
       "      <td>2019-09-19</td>\n",
       "      <td>1.443836</td>\n",
       "      <td>2018-04-10</td>\n",
       "      <td>1</td>\n",
       "      <td>1990-07-09 00:00:00.000</td>\n",
       "      <td>29.197773</td>\n",
       "      <td>1</td>\n",
       "      <td>6</td>\n",
       "      <td>6</td>\n",
       "      <td>...</td>\n",
       "      <td>4</td>\n",
       "      <td>0</td>\n",
       "      <td>1</td>\n",
       "      <td>0</td>\n",
       "      <td>3</td>\n",
       "      <td>0</td>\n",
       "      <td>Spastic</td>\n",
       "      <td>Madison Foster</td>\n",
       "      <td>654 Cherry St</td>\n",
       "      <td>555-8901</td>\n",
       "    </tr>\n",
       "    <tr>\n",
       "      <th>304</th>\n",
       "      <td>287</td>\n",
       "      <td>2019-09-24</td>\n",
       "      <td>1.493151</td>\n",
       "      <td>2018-03-28</td>\n",
       "      <td>2</td>\n",
       "      <td>1995-11-29 00:00:00.000</td>\n",
       "      <td>23.819954</td>\n",
       "      <td>1</td>\n",
       "      <td>6</td>\n",
       "      <td>6</td>\n",
       "      <td>...</td>\n",
       "      <td>2</td>\n",
       "      <td>0</td>\n",
       "      <td>1</td>\n",
       "      <td>0</td>\n",
       "      <td>1</td>\n",
       "      <td>0</td>\n",
       "      <td>Spastic</td>\n",
       "      <td>Evelyn Sanders</td>\n",
       "      <td>987 Cedar St</td>\n",
       "      <td>555-2345</td>\n",
       "    </tr>\n",
       "  </tbody>\n",
       "</table>\n",
       "<p>305 rows × 135 columns</p>\n",
       "</div>"
      ],
      "text/plain": [
       "     Main1_ID Main2_Assessment_Date  Main3_Age_at_Assessment A1_Child_DoB  \\\n",
       "0           3            2013-02-28                 1.614964   2011-07-19   \n",
       "1          22            2013-11-29                 4.107338   2009-10-21   \n",
       "2           4            2013-09-26                 2.663321   2011-01-27   \n",
       "3           5            2013-11-10                 2.159672   2011-09-13   \n",
       "4          33            2014-01-14                 2.809035   2011-03-25   \n",
       "..        ...                   ...                      ...          ...   \n",
       "300       215            2018-10-16                 2.170620   2016-08-14   \n",
       "301       242            2019-02-05                 1.597260   2017-07-02   \n",
       "302       259            2019-04-21                 6.252347   2013-01-19   \n",
       "303       282            2019-09-19                 1.443836   2018-04-10   \n",
       "304       287            2019-09-24                 1.493151   2018-03-28   \n",
       "\n",
       "     A2_Child_Gender           A4_Mother_DoB  A5_Mother_Age_at_Assessment  \\\n",
       "0                  1 1985-03-21 21:36:57.219                    31.535563   \n",
       "1                  2 1987-10-05 00:00:00.000                    26.151288   \n",
       "2                  2 1977-02-26 00:00:00.000                    36.581101   \n",
       "3                  2 1987-09-09 00:00:00.000                    26.170452   \n",
       "4                  1 1985-01-01 00:00:00.000                    29.036233   \n",
       "..               ...                     ...                          ...   \n",
       "300                1 1990-08-02 00:00:00.000                    28.206005   \n",
       "301                1 1988-08-18 00:00:00.000                    30.466804   \n",
       "302                1 1986-12-26 00:00:00.000                    32.318892   \n",
       "303                1 1990-07-09 00:00:00.000                    29.197773   \n",
       "304                2 1995-11-29 00:00:00.000                    23.819954   \n",
       "\n",
       "     A6_Mother_Education  A7_Mother_Past_Occ  A8_Mother_Curr_Occ  ...  \\\n",
       "0                      1                   6                   6  ...   \n",
       "1                      1                   1                   6  ...   \n",
       "2                      3                   6                   6  ...   \n",
       "3                      4                   6                   6  ...   \n",
       "4                      1                   6                   6  ...   \n",
       "..                   ...                 ...                 ...  ...   \n",
       "300                    3                   6                   6  ...   \n",
       "301                    2                   6                   6  ...   \n",
       "302                    2                   6                   6  ...   \n",
       "303                    1                   6                   6  ...   \n",
       "304                    1                   6                   6  ...   \n",
       "\n",
       "    H39_Pincer_Grasp_Pattern_L  H40_Pincer_Grasp_Pattern_L_Other  \\\n",
       "0                            1                                 0   \n",
       "1                            3                                 0   \n",
       "2                            4                                 0   \n",
       "3                            1                                 0   \n",
       "4                            4                                 0   \n",
       "..                         ...                               ...   \n",
       "300                          4                                 0   \n",
       "301                          1                                 0   \n",
       "302                          1                                 0   \n",
       "303                          4                                 0   \n",
       "304                          2                                 0   \n",
       "\n",
       "     H41_Hand_Release_R  H42_Hand_Release_R_Blocks  H43_Hand_Release_L  \\\n",
       "0                     1                          0                   2   \n",
       "1                     4                          8                   4   \n",
       "2                     3                          0                   3   \n",
       "3                     1                          0                   1   \n",
       "4                     4                          9                   4   \n",
       "..                  ...                        ...                 ...   \n",
       "300                   4                         10                   4   \n",
       "301                   1                          0                   1   \n",
       "302                   2                          0                   2   \n",
       "303                   1                          0                   3   \n",
       "304                   1                          0                   1   \n",
       "\n",
       "     H44_Hand_Release_L_Blocks  F2_CP_Type_Assessor_Report (text)  \\\n",
       "0                            0                            Spastic   \n",
       "1                            8                            Spastic   \n",
       "2                            0                             Ataxic   \n",
       "3                            0                            Spastic   \n",
       "4                            6                            Spastic   \n",
       "..                         ...                                ...   \n",
       "300                         10                            Spastic   \n",
       "301                          0                            Spastic   \n",
       "302                          0                          Dyskineti   \n",
       "303                          0                            Spastic   \n",
       "304                          0                            Spastic   \n",
       "\n",
       "                 Name        Address   Contact  \n",
       "0          John Smith    123 Main St  555-1234  \n",
       "1       Emily Johnson     456 Elm St  555-5678  \n",
       "2    Michael Williams     789 Oak St  555-9012  \n",
       "3         Sarah Brown    321 Pine St  555-3456  \n",
       "4         David Jones   654 Maple St  555-7890  \n",
       "..                ...            ...       ...  \n",
       "300       Daniel Ward   876 Maple St  555-6789  \n",
       "301          Zoey Cox   1098 Pine St  555-0123  \n",
       "302    Hudson Ramirez     321 Oak St  555-4567  \n",
       "303    Madison Foster  654 Cherry St  555-8901  \n",
       "304    Evelyn Sanders   987 Cedar St  555-2345  \n",
       "\n",
       "[305 rows x 135 columns]"
      ]
     },
     "execution_count": 2,
     "metadata": {},
     "output_type": "execute_result"
    }
   ],
   "source": [
    "df = pd.read_excel(\"../Dataset/Jordanian children with CP -Compiled dataset.xlsx\")\n",
    "df"
   ]
  },
  {
   "cell_type": "markdown",
   "id": "04a5df6c",
   "metadata": {},
   "source": [
    "#### Cleaning the dataset"
   ]
  },
  {
   "cell_type": "code",
   "execution_count": 3,
   "id": "b65d6722",
   "metadata": {},
   "outputs": [
    {
     "data": {
      "text/plain": [
       "Index(['Main1_ID', 'Main2_Assessment_Date', 'Main3_Age_at_Assessment',\n",
       "       'A1_Child_DoB', 'A2_Child_Gender', 'A4_Mother_DoB',\n",
       "       'A5_Mother_Age_at_Assessment', 'A6_Mother_Education',\n",
       "       'A7_Mother_Past_Occ', 'A8_Mother_Curr_Occ',\n",
       "       ...\n",
       "       'H39_Pincer_Grasp_Pattern_L', 'H40_Pincer_Grasp_Pattern_L_Other',\n",
       "       'H41_Hand_Release_R', 'H42_Hand_Release_R_Blocks', 'H43_Hand_Release_L',\n",
       "       'H44_Hand_Release_L_Blocks', 'F2_CP_Type_Assessor_Report (text)',\n",
       "       'Name', 'Address', 'Contact'],\n",
       "      dtype='object', length=135)"
      ]
     },
     "execution_count": 3,
     "metadata": {},
     "output_type": "execute_result"
    }
   ],
   "source": [
    "df.columns"
   ]
  },
  {
   "cell_type": "code",
   "execution_count": 4,
   "id": "775bdd38",
   "metadata": {},
   "outputs": [],
   "source": [
    "# dropping unnecessary attributes \n",
    "columns_to_drop = ['Main1_ID','Main2_Assessment_Date','A1_Child_DoB', 'A4_Mother_DoB',\n",
    "                   'A5_Mother_Age_at_Assessment','A7_Mother_Past_Occ', 'A8_Mother_Curr_Occ','A9_Father_DoB',\n",
    "                   'A10_Father_Age_at_Assessment','A12_Father_Past_Occ', 'A13_Father_Curr_Occ','D3_Had_Surgery_1_Date',\n",
    "                  'D5_Had_Surgery_2_date','D7_Had_Surgery_3_Date','Name', 'Address', 'Contact'] \n",
    "df.drop(columns=columns_to_drop, inplace=True)"
   ]
  },
  {
   "cell_type": "code",
   "execution_count": 5,
   "id": "0b532c9f",
   "metadata": {},
   "outputs": [
    {
     "data": {
      "text/html": [
       "<div>\n",
       "<style scoped>\n",
       "    .dataframe tbody tr th:only-of-type {\n",
       "        vertical-align: middle;\n",
       "    }\n",
       "\n",
       "    .dataframe tbody tr th {\n",
       "        vertical-align: top;\n",
       "    }\n",
       "\n",
       "    .dataframe thead th {\n",
       "        text-align: right;\n",
       "    }\n",
       "</style>\n",
       "<table border=\"1\" class=\"dataframe\">\n",
       "  <thead>\n",
       "    <tr style=\"text-align: right;\">\n",
       "      <th></th>\n",
       "      <th>Main3_Age_at_Assessment</th>\n",
       "      <th>A2_Child_Gender</th>\n",
       "      <th>A6_Mother_Education</th>\n",
       "      <th>A11_Father_Education</th>\n",
       "      <th>B2_Birth_Weight</th>\n",
       "      <th>B3_Gestation_Age</th>\n",
       "      <th>B4_Consanguinity</th>\n",
       "      <th>B5_NICU</th>\n",
       "      <th>B6_Multi_Birth</th>\n",
       "      <th>B7_Prev_birth</th>\n",
       "      <th>...</th>\n",
       "      <th>H36_Gross_Grasp_Pattern_L_Other</th>\n",
       "      <th>H37_Pincer_Grasp_Pattern_R</th>\n",
       "      <th>H38_Pincer_Grasp_Pattern_R_Other</th>\n",
       "      <th>H39_Pincer_Grasp_Pattern_L</th>\n",
       "      <th>H40_Pincer_Grasp_Pattern_L_Other</th>\n",
       "      <th>H41_Hand_Release_R</th>\n",
       "      <th>H42_Hand_Release_R_Blocks</th>\n",
       "      <th>H43_Hand_Release_L</th>\n",
       "      <th>H44_Hand_Release_L_Blocks</th>\n",
       "      <th>F2_CP_Type_Assessor_Report (text)</th>\n",
       "    </tr>\n",
       "  </thead>\n",
       "  <tbody>\n",
       "    <tr>\n",
       "      <th>0</th>\n",
       "      <td>1.614964</td>\n",
       "      <td>1</td>\n",
       "      <td>1</td>\n",
       "      <td>1</td>\n",
       "      <td>2571.910299</td>\n",
       "      <td>35.476974</td>\n",
       "      <td>2</td>\n",
       "      <td>1</td>\n",
       "      <td>1</td>\n",
       "      <td>1.671053</td>\n",
       "      <td>...</td>\n",
       "      <td>0</td>\n",
       "      <td>4</td>\n",
       "      <td>0</td>\n",
       "      <td>1</td>\n",
       "      <td>0</td>\n",
       "      <td>1</td>\n",
       "      <td>0</td>\n",
       "      <td>2</td>\n",
       "      <td>0</td>\n",
       "      <td>Spastic</td>\n",
       "    </tr>\n",
       "    <tr>\n",
       "      <th>1</th>\n",
       "      <td>4.107338</td>\n",
       "      <td>2</td>\n",
       "      <td>1</td>\n",
       "      <td>3</td>\n",
       "      <td>3500.000000</td>\n",
       "      <td>40.000000</td>\n",
       "      <td>2</td>\n",
       "      <td>2</td>\n",
       "      <td>1</td>\n",
       "      <td>1.000000</td>\n",
       "      <td>...</td>\n",
       "      <td>0</td>\n",
       "      <td>3</td>\n",
       "      <td>0</td>\n",
       "      <td>3</td>\n",
       "      <td>0</td>\n",
       "      <td>4</td>\n",
       "      <td>8</td>\n",
       "      <td>4</td>\n",
       "      <td>8</td>\n",
       "      <td>Spastic</td>\n",
       "    </tr>\n",
       "    <tr>\n",
       "      <th>2</th>\n",
       "      <td>2.663321</td>\n",
       "      <td>2</td>\n",
       "      <td>3</td>\n",
       "      <td>2</td>\n",
       "      <td>3500.000000</td>\n",
       "      <td>36.000000</td>\n",
       "      <td>2</td>\n",
       "      <td>1</td>\n",
       "      <td>1</td>\n",
       "      <td>2.000000</td>\n",
       "      <td>...</td>\n",
       "      <td>0</td>\n",
       "      <td>2</td>\n",
       "      <td>0</td>\n",
       "      <td>4</td>\n",
       "      <td>0</td>\n",
       "      <td>3</td>\n",
       "      <td>0</td>\n",
       "      <td>3</td>\n",
       "      <td>0</td>\n",
       "      <td>Ataxic</td>\n",
       "    </tr>\n",
       "    <tr>\n",
       "      <th>3</th>\n",
       "      <td>2.159672</td>\n",
       "      <td>2</td>\n",
       "      <td>4</td>\n",
       "      <td>2</td>\n",
       "      <td>2000.000000</td>\n",
       "      <td>38.000000</td>\n",
       "      <td>2</td>\n",
       "      <td>2</td>\n",
       "      <td>1</td>\n",
       "      <td>1.000000</td>\n",
       "      <td>...</td>\n",
       "      <td>0</td>\n",
       "      <td>1</td>\n",
       "      <td>0</td>\n",
       "      <td>1</td>\n",
       "      <td>0</td>\n",
       "      <td>1</td>\n",
       "      <td>0</td>\n",
       "      <td>1</td>\n",
       "      <td>0</td>\n",
       "      <td>Spastic</td>\n",
       "    </tr>\n",
       "    <tr>\n",
       "      <th>4</th>\n",
       "      <td>2.809035</td>\n",
       "      <td>1</td>\n",
       "      <td>1</td>\n",
       "      <td>1</td>\n",
       "      <td>2500.000000</td>\n",
       "      <td>38.000000</td>\n",
       "      <td>2</td>\n",
       "      <td>2</td>\n",
       "      <td>1</td>\n",
       "      <td>3.000000</td>\n",
       "      <td>...</td>\n",
       "      <td>0</td>\n",
       "      <td>4</td>\n",
       "      <td>0</td>\n",
       "      <td>4</td>\n",
       "      <td>0</td>\n",
       "      <td>4</td>\n",
       "      <td>9</td>\n",
       "      <td>4</td>\n",
       "      <td>6</td>\n",
       "      <td>Spastic</td>\n",
       "    </tr>\n",
       "    <tr>\n",
       "      <th>...</th>\n",
       "      <td>...</td>\n",
       "      <td>...</td>\n",
       "      <td>...</td>\n",
       "      <td>...</td>\n",
       "      <td>...</td>\n",
       "      <td>...</td>\n",
       "      <td>...</td>\n",
       "      <td>...</td>\n",
       "      <td>...</td>\n",
       "      <td>...</td>\n",
       "      <td>...</td>\n",
       "      <td>...</td>\n",
       "      <td>...</td>\n",
       "      <td>...</td>\n",
       "      <td>...</td>\n",
       "      <td>...</td>\n",
       "      <td>...</td>\n",
       "      <td>...</td>\n",
       "      <td>...</td>\n",
       "      <td>...</td>\n",
       "      <td>...</td>\n",
       "    </tr>\n",
       "    <tr>\n",
       "      <th>300</th>\n",
       "      <td>2.170620</td>\n",
       "      <td>1</td>\n",
       "      <td>3</td>\n",
       "      <td>1</td>\n",
       "      <td>3300.000000</td>\n",
       "      <td>33.000000</td>\n",
       "      <td>1</td>\n",
       "      <td>1</td>\n",
       "      <td>1</td>\n",
       "      <td>2.000000</td>\n",
       "      <td>...</td>\n",
       "      <td>0</td>\n",
       "      <td>4</td>\n",
       "      <td>0</td>\n",
       "      <td>4</td>\n",
       "      <td>0</td>\n",
       "      <td>4</td>\n",
       "      <td>10</td>\n",
       "      <td>4</td>\n",
       "      <td>10</td>\n",
       "      <td>Spastic</td>\n",
       "    </tr>\n",
       "    <tr>\n",
       "      <th>301</th>\n",
       "      <td>1.597260</td>\n",
       "      <td>1</td>\n",
       "      <td>2</td>\n",
       "      <td>1</td>\n",
       "      <td>2300.000000</td>\n",
       "      <td>35.000000</td>\n",
       "      <td>1</td>\n",
       "      <td>1</td>\n",
       "      <td>1</td>\n",
       "      <td>1.000000</td>\n",
       "      <td>...</td>\n",
       "      <td>0</td>\n",
       "      <td>1</td>\n",
       "      <td>0</td>\n",
       "      <td>1</td>\n",
       "      <td>0</td>\n",
       "      <td>1</td>\n",
       "      <td>0</td>\n",
       "      <td>1</td>\n",
       "      <td>0</td>\n",
       "      <td>Spastic</td>\n",
       "    </tr>\n",
       "    <tr>\n",
       "      <th>302</th>\n",
       "      <td>6.252347</td>\n",
       "      <td>1</td>\n",
       "      <td>2</td>\n",
       "      <td>1</td>\n",
       "      <td>4000.000000</td>\n",
       "      <td>38.000000</td>\n",
       "      <td>1</td>\n",
       "      <td>1</td>\n",
       "      <td>1</td>\n",
       "      <td>2.000000</td>\n",
       "      <td>...</td>\n",
       "      <td>0</td>\n",
       "      <td>1</td>\n",
       "      <td>0</td>\n",
       "      <td>1</td>\n",
       "      <td>0</td>\n",
       "      <td>2</td>\n",
       "      <td>0</td>\n",
       "      <td>2</td>\n",
       "      <td>0</td>\n",
       "      <td>Dyskineti</td>\n",
       "    </tr>\n",
       "    <tr>\n",
       "      <th>303</th>\n",
       "      <td>1.443836</td>\n",
       "      <td>1</td>\n",
       "      <td>1</td>\n",
       "      <td>1</td>\n",
       "      <td>3600.000000</td>\n",
       "      <td>39.000000</td>\n",
       "      <td>1</td>\n",
       "      <td>2</td>\n",
       "      <td>1</td>\n",
       "      <td>3.000000</td>\n",
       "      <td>...</td>\n",
       "      <td>0</td>\n",
       "      <td>2</td>\n",
       "      <td>0</td>\n",
       "      <td>4</td>\n",
       "      <td>0</td>\n",
       "      <td>1</td>\n",
       "      <td>0</td>\n",
       "      <td>3</td>\n",
       "      <td>0</td>\n",
       "      <td>Spastic</td>\n",
       "    </tr>\n",
       "    <tr>\n",
       "      <th>304</th>\n",
       "      <td>1.493151</td>\n",
       "      <td>2</td>\n",
       "      <td>1</td>\n",
       "      <td>1</td>\n",
       "      <td>3500.000000</td>\n",
       "      <td>38.000000</td>\n",
       "      <td>2</td>\n",
       "      <td>1</td>\n",
       "      <td>1</td>\n",
       "      <td>0.000000</td>\n",
       "      <td>...</td>\n",
       "      <td>0</td>\n",
       "      <td>2</td>\n",
       "      <td>0</td>\n",
       "      <td>2</td>\n",
       "      <td>0</td>\n",
       "      <td>1</td>\n",
       "      <td>0</td>\n",
       "      <td>1</td>\n",
       "      <td>0</td>\n",
       "      <td>Spastic</td>\n",
       "    </tr>\n",
       "  </tbody>\n",
       "</table>\n",
       "<p>305 rows × 118 columns</p>\n",
       "</div>"
      ],
      "text/plain": [
       "     Main3_Age_at_Assessment  A2_Child_Gender  A6_Mother_Education  \\\n",
       "0                   1.614964                1                    1   \n",
       "1                   4.107338                2                    1   \n",
       "2                   2.663321                2                    3   \n",
       "3                   2.159672                2                    4   \n",
       "4                   2.809035                1                    1   \n",
       "..                       ...              ...                  ...   \n",
       "300                 2.170620                1                    3   \n",
       "301                 1.597260                1                    2   \n",
       "302                 6.252347                1                    2   \n",
       "303                 1.443836                1                    1   \n",
       "304                 1.493151                2                    1   \n",
       "\n",
       "     A11_Father_Education  B2_Birth_Weight  B3_Gestation_Age  \\\n",
       "0                       1      2571.910299         35.476974   \n",
       "1                       3      3500.000000         40.000000   \n",
       "2                       2      3500.000000         36.000000   \n",
       "3                       2      2000.000000         38.000000   \n",
       "4                       1      2500.000000         38.000000   \n",
       "..                    ...              ...               ...   \n",
       "300                     1      3300.000000         33.000000   \n",
       "301                     1      2300.000000         35.000000   \n",
       "302                     1      4000.000000         38.000000   \n",
       "303                     1      3600.000000         39.000000   \n",
       "304                     1      3500.000000         38.000000   \n",
       "\n",
       "     B4_Consanguinity  B5_NICU  B6_Multi_Birth  B7_Prev_birth  ...  \\\n",
       "0                   2        1               1       1.671053  ...   \n",
       "1                   2        2               1       1.000000  ...   \n",
       "2                   2        1               1       2.000000  ...   \n",
       "3                   2        2               1       1.000000  ...   \n",
       "4                   2        2               1       3.000000  ...   \n",
       "..                ...      ...             ...            ...  ...   \n",
       "300                 1        1               1       2.000000  ...   \n",
       "301                 1        1               1       1.000000  ...   \n",
       "302                 1        1               1       2.000000  ...   \n",
       "303                 1        2               1       3.000000  ...   \n",
       "304                 2        1               1       0.000000  ...   \n",
       "\n",
       "     H36_Gross_Grasp_Pattern_L_Other  H37_Pincer_Grasp_Pattern_R  \\\n",
       "0                                  0                           4   \n",
       "1                                  0                           3   \n",
       "2                                  0                           2   \n",
       "3                                  0                           1   \n",
       "4                                  0                           4   \n",
       "..                               ...                         ...   \n",
       "300                                0                           4   \n",
       "301                                0                           1   \n",
       "302                                0                           1   \n",
       "303                                0                           2   \n",
       "304                                0                           2   \n",
       "\n",
       "     H38_Pincer_Grasp_Pattern_R_Other  H39_Pincer_Grasp_Pattern_L  \\\n",
       "0                                   0                           1   \n",
       "1                                   0                           3   \n",
       "2                                   0                           4   \n",
       "3                                   0                           1   \n",
       "4                                   0                           4   \n",
       "..                                ...                         ...   \n",
       "300                                 0                           4   \n",
       "301                                 0                           1   \n",
       "302                                 0                           1   \n",
       "303                                 0                           4   \n",
       "304                                 0                           2   \n",
       "\n",
       "     H40_Pincer_Grasp_Pattern_L_Other  H41_Hand_Release_R  \\\n",
       "0                                   0                   1   \n",
       "1                                   0                   4   \n",
       "2                                   0                   3   \n",
       "3                                   0                   1   \n",
       "4                                   0                   4   \n",
       "..                                ...                 ...   \n",
       "300                                 0                   4   \n",
       "301                                 0                   1   \n",
       "302                                 0                   2   \n",
       "303                                 0                   1   \n",
       "304                                 0                   1   \n",
       "\n",
       "     H42_Hand_Release_R_Blocks  H43_Hand_Release_L  H44_Hand_Release_L_Blocks  \\\n",
       "0                            0                   2                          0   \n",
       "1                            8                   4                          8   \n",
       "2                            0                   3                          0   \n",
       "3                            0                   1                          0   \n",
       "4                            9                   4                          6   \n",
       "..                         ...                 ...                        ...   \n",
       "300                         10                   4                         10   \n",
       "301                          0                   1                          0   \n",
       "302                          0                   2                          0   \n",
       "303                          0                   3                          0   \n",
       "304                          0                   1                          0   \n",
       "\n",
       "     F2_CP_Type_Assessor_Report (text)  \n",
       "0                              Spastic  \n",
       "1                              Spastic  \n",
       "2                               Ataxic  \n",
       "3                              Spastic  \n",
       "4                              Spastic  \n",
       "..                                 ...  \n",
       "300                            Spastic  \n",
       "301                            Spastic  \n",
       "302                          Dyskineti  \n",
       "303                            Spastic  \n",
       "304                            Spastic  \n",
       "\n",
       "[305 rows x 118 columns]"
      ]
     },
     "execution_count": 5,
     "metadata": {},
     "output_type": "execute_result"
    }
   ],
   "source": [
    "df"
   ]
  },
  {
   "cell_type": "code",
   "execution_count": 6,
   "id": "a36c7abb",
   "metadata": {
    "scrolled": true
   },
   "outputs": [
    {
     "data": {
      "text/html": [
       "<div>\n",
       "<style scoped>\n",
       "    .dataframe tbody tr th:only-of-type {\n",
       "        vertical-align: middle;\n",
       "    }\n",
       "\n",
       "    .dataframe tbody tr th {\n",
       "        vertical-align: top;\n",
       "    }\n",
       "\n",
       "    .dataframe thead th {\n",
       "        text-align: right;\n",
       "    }\n",
       "</style>\n",
       "<table border=\"1\" class=\"dataframe\">\n",
       "  <thead>\n",
       "    <tr style=\"text-align: right;\">\n",
       "      <th></th>\n",
       "      <th>Main3_Age_at_Assessment</th>\n",
       "      <th>A2_Child_Gender</th>\n",
       "      <th>A6_Mother_Education</th>\n",
       "      <th>A11_Father_Education</th>\n",
       "      <th>B2_Birth_Weight</th>\n",
       "      <th>B3_Gestation_Age</th>\n",
       "      <th>B4_Consanguinity</th>\n",
       "      <th>B5_NICU</th>\n",
       "      <th>B6_Multi_Birth</th>\n",
       "      <th>B7_Prev_birth</th>\n",
       "      <th>...</th>\n",
       "      <th>H35_Gross_Grasp_Pattern_L</th>\n",
       "      <th>H36_Gross_Grasp_Pattern_L_Other</th>\n",
       "      <th>H37_Pincer_Grasp_Pattern_R</th>\n",
       "      <th>H38_Pincer_Grasp_Pattern_R_Other</th>\n",
       "      <th>H39_Pincer_Grasp_Pattern_L</th>\n",
       "      <th>H40_Pincer_Grasp_Pattern_L_Other</th>\n",
       "      <th>H41_Hand_Release_R</th>\n",
       "      <th>H42_Hand_Release_R_Blocks</th>\n",
       "      <th>H43_Hand_Release_L</th>\n",
       "      <th>H44_Hand_Release_L_Blocks</th>\n",
       "    </tr>\n",
       "  </thead>\n",
       "  <tbody>\n",
       "    <tr>\n",
       "      <th>0</th>\n",
       "      <td>1.614964</td>\n",
       "      <td>1</td>\n",
       "      <td>1</td>\n",
       "      <td>1</td>\n",
       "      <td>2571.910299</td>\n",
       "      <td>35.476974</td>\n",
       "      <td>2</td>\n",
       "      <td>1</td>\n",
       "      <td>1</td>\n",
       "      <td>1.671053</td>\n",
       "      <td>...</td>\n",
       "      <td>5</td>\n",
       "      <td>0</td>\n",
       "      <td>4</td>\n",
       "      <td>0</td>\n",
       "      <td>1</td>\n",
       "      <td>0</td>\n",
       "      <td>1</td>\n",
       "      <td>0</td>\n",
       "      <td>2</td>\n",
       "      <td>0</td>\n",
       "    </tr>\n",
       "    <tr>\n",
       "      <th>1</th>\n",
       "      <td>4.107338</td>\n",
       "      <td>2</td>\n",
       "      <td>1</td>\n",
       "      <td>3</td>\n",
       "      <td>3500.000000</td>\n",
       "      <td>40.000000</td>\n",
       "      <td>2</td>\n",
       "      <td>2</td>\n",
       "      <td>1</td>\n",
       "      <td>1.000000</td>\n",
       "      <td>...</td>\n",
       "      <td>5</td>\n",
       "      <td>0</td>\n",
       "      <td>3</td>\n",
       "      <td>0</td>\n",
       "      <td>3</td>\n",
       "      <td>0</td>\n",
       "      <td>4</td>\n",
       "      <td>8</td>\n",
       "      <td>4</td>\n",
       "      <td>8</td>\n",
       "    </tr>\n",
       "    <tr>\n",
       "      <th>2</th>\n",
       "      <td>2.663321</td>\n",
       "      <td>2</td>\n",
       "      <td>3</td>\n",
       "      <td>2</td>\n",
       "      <td>3500.000000</td>\n",
       "      <td>36.000000</td>\n",
       "      <td>2</td>\n",
       "      <td>1</td>\n",
       "      <td>1</td>\n",
       "      <td>2.000000</td>\n",
       "      <td>...</td>\n",
       "      <td>1</td>\n",
       "      <td>0</td>\n",
       "      <td>2</td>\n",
       "      <td>0</td>\n",
       "      <td>4</td>\n",
       "      <td>0</td>\n",
       "      <td>3</td>\n",
       "      <td>0</td>\n",
       "      <td>3</td>\n",
       "      <td>0</td>\n",
       "    </tr>\n",
       "    <tr>\n",
       "      <th>3</th>\n",
       "      <td>2.159672</td>\n",
       "      <td>2</td>\n",
       "      <td>4</td>\n",
       "      <td>2</td>\n",
       "      <td>2000.000000</td>\n",
       "      <td>38.000000</td>\n",
       "      <td>2</td>\n",
       "      <td>2</td>\n",
       "      <td>1</td>\n",
       "      <td>1.000000</td>\n",
       "      <td>...</td>\n",
       "      <td>3</td>\n",
       "      <td>0</td>\n",
       "      <td>1</td>\n",
       "      <td>0</td>\n",
       "      <td>1</td>\n",
       "      <td>0</td>\n",
       "      <td>1</td>\n",
       "      <td>0</td>\n",
       "      <td>1</td>\n",
       "      <td>0</td>\n",
       "    </tr>\n",
       "    <tr>\n",
       "      <th>4</th>\n",
       "      <td>2.809035</td>\n",
       "      <td>1</td>\n",
       "      <td>1</td>\n",
       "      <td>1</td>\n",
       "      <td>2500.000000</td>\n",
       "      <td>38.000000</td>\n",
       "      <td>2</td>\n",
       "      <td>2</td>\n",
       "      <td>1</td>\n",
       "      <td>3.000000</td>\n",
       "      <td>...</td>\n",
       "      <td>5</td>\n",
       "      <td>0</td>\n",
       "      <td>4</td>\n",
       "      <td>0</td>\n",
       "      <td>4</td>\n",
       "      <td>0</td>\n",
       "      <td>4</td>\n",
       "      <td>9</td>\n",
       "      <td>4</td>\n",
       "      <td>6</td>\n",
       "    </tr>\n",
       "    <tr>\n",
       "      <th>...</th>\n",
       "      <td>...</td>\n",
       "      <td>...</td>\n",
       "      <td>...</td>\n",
       "      <td>...</td>\n",
       "      <td>...</td>\n",
       "      <td>...</td>\n",
       "      <td>...</td>\n",
       "      <td>...</td>\n",
       "      <td>...</td>\n",
       "      <td>...</td>\n",
       "      <td>...</td>\n",
       "      <td>...</td>\n",
       "      <td>...</td>\n",
       "      <td>...</td>\n",
       "      <td>...</td>\n",
       "      <td>...</td>\n",
       "      <td>...</td>\n",
       "      <td>...</td>\n",
       "      <td>...</td>\n",
       "      <td>...</td>\n",
       "      <td>...</td>\n",
       "    </tr>\n",
       "    <tr>\n",
       "      <th>300</th>\n",
       "      <td>2.170620</td>\n",
       "      <td>1</td>\n",
       "      <td>3</td>\n",
       "      <td>1</td>\n",
       "      <td>3300.000000</td>\n",
       "      <td>33.000000</td>\n",
       "      <td>1</td>\n",
       "      <td>1</td>\n",
       "      <td>1</td>\n",
       "      <td>2.000000</td>\n",
       "      <td>...</td>\n",
       "      <td>4</td>\n",
       "      <td>0</td>\n",
       "      <td>4</td>\n",
       "      <td>0</td>\n",
       "      <td>4</td>\n",
       "      <td>0</td>\n",
       "      <td>4</td>\n",
       "      <td>10</td>\n",
       "      <td>4</td>\n",
       "      <td>10</td>\n",
       "    </tr>\n",
       "    <tr>\n",
       "      <th>301</th>\n",
       "      <td>1.597260</td>\n",
       "      <td>1</td>\n",
       "      <td>2</td>\n",
       "      <td>1</td>\n",
       "      <td>2300.000000</td>\n",
       "      <td>35.000000</td>\n",
       "      <td>1</td>\n",
       "      <td>1</td>\n",
       "      <td>1</td>\n",
       "      <td>1.000000</td>\n",
       "      <td>...</td>\n",
       "      <td>1</td>\n",
       "      <td>0</td>\n",
       "      <td>1</td>\n",
       "      <td>0</td>\n",
       "      <td>1</td>\n",
       "      <td>0</td>\n",
       "      <td>1</td>\n",
       "      <td>0</td>\n",
       "      <td>1</td>\n",
       "      <td>0</td>\n",
       "    </tr>\n",
       "    <tr>\n",
       "      <th>302</th>\n",
       "      <td>6.252347</td>\n",
       "      <td>1</td>\n",
       "      <td>2</td>\n",
       "      <td>1</td>\n",
       "      <td>4000.000000</td>\n",
       "      <td>38.000000</td>\n",
       "      <td>1</td>\n",
       "      <td>1</td>\n",
       "      <td>1</td>\n",
       "      <td>2.000000</td>\n",
       "      <td>...</td>\n",
       "      <td>5</td>\n",
       "      <td>0</td>\n",
       "      <td>1</td>\n",
       "      <td>0</td>\n",
       "      <td>1</td>\n",
       "      <td>0</td>\n",
       "      <td>2</td>\n",
       "      <td>0</td>\n",
       "      <td>2</td>\n",
       "      <td>0</td>\n",
       "    </tr>\n",
       "    <tr>\n",
       "      <th>303</th>\n",
       "      <td>1.443836</td>\n",
       "      <td>1</td>\n",
       "      <td>1</td>\n",
       "      <td>1</td>\n",
       "      <td>3600.000000</td>\n",
       "      <td>39.000000</td>\n",
       "      <td>1</td>\n",
       "      <td>2</td>\n",
       "      <td>1</td>\n",
       "      <td>3.000000</td>\n",
       "      <td>...</td>\n",
       "      <td>4</td>\n",
       "      <td>0</td>\n",
       "      <td>2</td>\n",
       "      <td>0</td>\n",
       "      <td>4</td>\n",
       "      <td>0</td>\n",
       "      <td>1</td>\n",
       "      <td>0</td>\n",
       "      <td>3</td>\n",
       "      <td>0</td>\n",
       "    </tr>\n",
       "    <tr>\n",
       "      <th>304</th>\n",
       "      <td>1.493151</td>\n",
       "      <td>2</td>\n",
       "      <td>1</td>\n",
       "      <td>1</td>\n",
       "      <td>3500.000000</td>\n",
       "      <td>38.000000</td>\n",
       "      <td>2</td>\n",
       "      <td>1</td>\n",
       "      <td>1</td>\n",
       "      <td>0.000000</td>\n",
       "      <td>...</td>\n",
       "      <td>2</td>\n",
       "      <td>0</td>\n",
       "      <td>2</td>\n",
       "      <td>0</td>\n",
       "      <td>2</td>\n",
       "      <td>0</td>\n",
       "      <td>1</td>\n",
       "      <td>0</td>\n",
       "      <td>1</td>\n",
       "      <td>0</td>\n",
       "    </tr>\n",
       "  </tbody>\n",
       "</table>\n",
       "<p>305 rows × 117 columns</p>\n",
       "</div>"
      ],
      "text/plain": [
       "     Main3_Age_at_Assessment  A2_Child_Gender  A6_Mother_Education  \\\n",
       "0                   1.614964                1                    1   \n",
       "1                   4.107338                2                    1   \n",
       "2                   2.663321                2                    3   \n",
       "3                   2.159672                2                    4   \n",
       "4                   2.809035                1                    1   \n",
       "..                       ...              ...                  ...   \n",
       "300                 2.170620                1                    3   \n",
       "301                 1.597260                1                    2   \n",
       "302                 6.252347                1                    2   \n",
       "303                 1.443836                1                    1   \n",
       "304                 1.493151                2                    1   \n",
       "\n",
       "     A11_Father_Education  B2_Birth_Weight  B3_Gestation_Age  \\\n",
       "0                       1      2571.910299         35.476974   \n",
       "1                       3      3500.000000         40.000000   \n",
       "2                       2      3500.000000         36.000000   \n",
       "3                       2      2000.000000         38.000000   \n",
       "4                       1      2500.000000         38.000000   \n",
       "..                    ...              ...               ...   \n",
       "300                     1      3300.000000         33.000000   \n",
       "301                     1      2300.000000         35.000000   \n",
       "302                     1      4000.000000         38.000000   \n",
       "303                     1      3600.000000         39.000000   \n",
       "304                     1      3500.000000         38.000000   \n",
       "\n",
       "     B4_Consanguinity  B5_NICU  B6_Multi_Birth  B7_Prev_birth  ...  \\\n",
       "0                   2        1               1       1.671053  ...   \n",
       "1                   2        2               1       1.000000  ...   \n",
       "2                   2        1               1       2.000000  ...   \n",
       "3                   2        2               1       1.000000  ...   \n",
       "4                   2        2               1       3.000000  ...   \n",
       "..                ...      ...             ...            ...  ...   \n",
       "300                 1        1               1       2.000000  ...   \n",
       "301                 1        1               1       1.000000  ...   \n",
       "302                 1        1               1       2.000000  ...   \n",
       "303                 1        2               1       3.000000  ...   \n",
       "304                 2        1               1       0.000000  ...   \n",
       "\n",
       "     H35_Gross_Grasp_Pattern_L  H36_Gross_Grasp_Pattern_L_Other  \\\n",
       "0                            5                                0   \n",
       "1                            5                                0   \n",
       "2                            1                                0   \n",
       "3                            3                                0   \n",
       "4                            5                                0   \n",
       "..                         ...                              ...   \n",
       "300                          4                                0   \n",
       "301                          1                                0   \n",
       "302                          5                                0   \n",
       "303                          4                                0   \n",
       "304                          2                                0   \n",
       "\n",
       "     H37_Pincer_Grasp_Pattern_R  H38_Pincer_Grasp_Pattern_R_Other  \\\n",
       "0                             4                                 0   \n",
       "1                             3                                 0   \n",
       "2                             2                                 0   \n",
       "3                             1                                 0   \n",
       "4                             4                                 0   \n",
       "..                          ...                               ...   \n",
       "300                           4                                 0   \n",
       "301                           1                                 0   \n",
       "302                           1                                 0   \n",
       "303                           2                                 0   \n",
       "304                           2                                 0   \n",
       "\n",
       "     H39_Pincer_Grasp_Pattern_L  H40_Pincer_Grasp_Pattern_L_Other  \\\n",
       "0                             1                                 0   \n",
       "1                             3                                 0   \n",
       "2                             4                                 0   \n",
       "3                             1                                 0   \n",
       "4                             4                                 0   \n",
       "..                          ...                               ...   \n",
       "300                           4                                 0   \n",
       "301                           1                                 0   \n",
       "302                           1                                 0   \n",
       "303                           4                                 0   \n",
       "304                           2                                 0   \n",
       "\n",
       "     H41_Hand_Release_R  H42_Hand_Release_R_Blocks  H43_Hand_Release_L  \\\n",
       "0                     1                          0                   2   \n",
       "1                     4                          8                   4   \n",
       "2                     3                          0                   3   \n",
       "3                     1                          0                   1   \n",
       "4                     4                          9                   4   \n",
       "..                  ...                        ...                 ...   \n",
       "300                   4                         10                   4   \n",
       "301                   1                          0                   1   \n",
       "302                   2                          0                   2   \n",
       "303                   1                          0                   3   \n",
       "304                   1                          0                   1   \n",
       "\n",
       "     H44_Hand_Release_L_Blocks  \n",
       "0                            0  \n",
       "1                            8  \n",
       "2                            0  \n",
       "3                            0  \n",
       "4                            6  \n",
       "..                         ...  \n",
       "300                         10  \n",
       "301                          0  \n",
       "302                          0  \n",
       "303                          0  \n",
       "304                          0  \n",
       "\n",
       "[305 rows x 117 columns]"
      ]
     },
     "execution_count": 6,
     "metadata": {},
     "output_type": "execute_result"
    }
   ],
   "source": [
    "X = df.drop('F2_CP_Type_Assessor_Report (text)',axis='columns')\n",
    "X"
   ]
  },
  {
   "cell_type": "code",
   "execution_count": 7,
   "id": "9569c8e9",
   "metadata": {
    "scrolled": true
   },
   "outputs": [
    {
     "data": {
      "text/plain": [
       "Main3_Age_at_Assessment             float64\n",
       "A2_Child_Gender                       int64\n",
       "A6_Mother_Education                   int64\n",
       "A11_Father_Education                  int64\n",
       "B2_Birth_Weight                     float64\n",
       "                                     ...   \n",
       "H40_Pincer_Grasp_Pattern_L_Other      int64\n",
       "H41_Hand_Release_R                    int64\n",
       "H42_Hand_Release_R_Blocks             int64\n",
       "H43_Hand_Release_L                    int64\n",
       "H44_Hand_Release_L_Blocks             int64\n",
       "Length: 117, dtype: object"
      ]
     },
     "execution_count": 7,
     "metadata": {},
     "output_type": "execute_result"
    }
   ],
   "source": [
    "X.dtypes"
   ]
  },
  {
   "cell_type": "code",
   "execution_count": 8,
   "id": "c623e29b",
   "metadata": {
    "scrolled": true
   },
   "outputs": [
    {
     "data": {
      "text/plain": [
       "Index(['F2_CP_Type_Assessor_Report (text)'], dtype='object')"
      ]
     },
     "execution_count": 8,
     "metadata": {},
     "output_type": "execute_result"
    }
   ],
   "source": [
    "object_columns = df.select_dtypes(include=['object']).columns\n",
    "object_columns"
   ]
  },
  {
   "cell_type": "code",
   "execution_count": 9,
   "id": "4b567c2b",
   "metadata": {},
   "outputs": [
    {
     "name": "stdout",
     "output_type": "stream",
     "text": [
      "Column: Main3_Age_at_Assessment\n",
      "[ 1.6149635   4.10733844  2.66332117  2.15967153  2.80903491  0.92328767\n",
      "  3.72946331 12.63858467  6.86379192  7.69883641  3.38444688  4.28023733\n",
      "  3.4939759   2.16438356  0.96712329  8.52905385  8.22786736  2.96783025\n",
      "  1.52120383  2.50513347  5.31638639  2.17385352  3.77327492  2.37645448\n",
      "  4.15426746  2.08898015  6.91307324  2.16240876  4.51259584  1.74908759\n",
      "  4.75399361  5.88854126  4.485623    0.70136986  3.54326396  6.68856947\n",
      "  7.74596897  3.08281999  3.60624315  8.25250989  3.88006572  1.41514599\n",
      "  0.74794521  2.7926078   1.44251825  1.23835616  1.2         4.62486309\n",
      "  1.44109589  4.41675794  1.45753425  2.68521898  1.25205479  2.09945255\n",
      "  1.22465753  1.83835616  1.34246575  4.10460022  2.7919708   4.47973713\n",
      "  3.78918549  1.61917808  2.51277372  1.69589041  4.66046002  1.67123288\n",
      "  1.91232877 16.34895041  3.37897043  2.4257358   1.19726027  1.85479452\n",
      "  3.18412047  4.2196057   3.08008214  3.44421629  3.05270363  0.83013699\n",
      "  0.84383562 10.77344285  4.21686747  0.95616438  1.16164384  1.58630137\n",
      "  3.72672508  6.32902973  3.91566265  0.8109589   1.69863014  2.77891855\n",
      "  2.83093771  1.82191781  4.47426068  1.27123288  4.15115005  1.46027397\n",
      "  4.53450164  3.27720739  3.40588638  7.23066393 16.40860042  3.86363636\n",
      "  9.23603505  1.37808219  5.56184391 10.60841424  8.33738972  3.11293634\n",
      "  6.9596167  10.42234943 11.68850042  5.21679598  9.93504231  6.2225264\n",
      "  5.21953446  8.44143596  2.62286105  2.21765914  5.50254204  8.51040526\n",
      "  2.52703628  2.86926762  2.39014374  6.74606434  4.21999087  6.36550308\n",
      "  3.17634173  7.57894737  5.14391865  2.12408759  6.7761807   2.17659138\n",
      "  2.30800821 12.84999022  3.15947981  6.14313649  2.47775496  2.05565693\n",
      "  8.02525099  2.02007299  7.36811682  5.70238561  6.68035592  4.84162483\n",
      "  2.21989051  3.06913073  3.36254107  1.94890511  3.55421687  4.51848471\n",
      "  8.70208105  1.49726277  1.69434307  4.11007667  1.81478102  2.00912409\n",
      "  0.49863014  1.83394161  2.1870438   3.50492881  1.63686131  4.91282519\n",
      "  4.66910087  0.88493151  2.97330595 16.1923015   1.9899635   3.09103354\n",
      " 15.29637235  4.70470105  5.38931995  5.86116543  7.06639288  6.90485969\n",
      " 13.55916292  0.46027397  5.6522136   3.76180698  2.23631387  6.89597184\n",
      "  1.0630137   1.78630137  3.00616016  3.08829569  1.47671233  3.85489391\n",
      "  2.23905109  6.66327728  1.07671233  4.39799178  2.32169747  5.70735524\n",
      "  5.24726135 11.19566133  3.73767798  1.35068493  1.96438356  6.30438185\n",
      "  1.05479452  8.01156069  1.51506849  0.89315068  2.73424658  7.54825462\n",
      "  2.31506849  1.62465753  2.89664613  4.03066813  1.39452055  6.06885759\n",
      "  2.37260274  1.14520548  2.71232877  1.37534247  3.03627652  2.24383562\n",
      "  4.02519168  3.88774812  0.86849315  6.00078217  2.53798768  1.45620438\n",
      "  2.98425736  4.85036496  2.81451061  4.16484118  2.32717317  3.42825849\n",
      "  9.23967148  3.87185104  1.89142336  2.54620123  0.94520548  2.36824093\n",
      "  2.21167883  2.11040146  2.83915127  2.0939781   0.63287671  1.19452055\n",
      "  3.24435318  4.34556407  1.30958904  1.26849315  4.01971522  1.23561644\n",
      "  1.03835616  1.1260274   2.74332649  3.40361446  2.14099932  0.77260274\n",
      "  4.41442264  3.8143483   1.96164384  7.38180712  5.25239617  4.17305586\n",
      "  1.25479452  4.39211391  2.39452055  2.12328767  3.04722793  1.13150685\n",
      "  1.          2.76164384 10.99794661  2.5369863   5.43861251  5.60018257\n",
      " 13.50166243  1.92974453  1.54379562  0.71780822  4.27437021  1.40273973\n",
      "  2.54346338  9.2524644   3.6550308   1.98448905  0.7260274   1.98630137\n",
      "  5.92370892  0.90136986  3.78970427  4.38389923  2.17062044  1.59726027\n",
      "  6.25234742  1.44383562  1.49315068]\n",
      "Column: A2_Child_Gender\n",
      "[1 2]\n",
      "Column: A6_Mother_Education\n",
      "[1 3 4 2 5]\n",
      "Column: A11_Father_Education\n",
      "[1 3 2 4 5]\n",
      "Column: B2_Birth_Weight\n",
      "[2571.910299 3500.       2000.       2500.       3200.       1700.\n",
      " 1500.       3000.       1400.       2700.       1000.       3300.\n",
      " 2200.        900.       2800.       1300.       2300.       4000.\n",
      " 2350.       3100.       3400.       2400.       2900.       2600.\n",
      " 1900.       3800.       1800.       2100.       1450.        850.\n",
      " 3600.       3750.       1200.        780.       3450.       5000.\n",
      "  800.       3700.       2065.       1600.       4500.       3350.\n",
      " 4100.       2170.       2850.       1780.       3250.       4800.\n",
      " 4600.       2550.       4300.       2750.       2250.      ]\n",
      "Column: B3_Gestation_Age\n",
      "[35.47697368 40.         36.         38.         28.         32.\n",
      " 39.         24.         37.         34.         33.         35.\n",
      " 30.         29.         26.         25.         31.         27.        ]\n",
      "Column: B4_Consanguinity\n",
      "[2 1]\n",
      "Column: B5_NICU\n",
      "[1 2]\n",
      "Column: B6_Multi_Birth\n",
      "[1 2 3]\n",
      "Column: B7_Prev_birth\n",
      "[ 1.67105263  1.          2.          3.          0.          5.\n",
      "  6.          4.          8.         10.        ]\n",
      "Column: B8_Still_Birth\n",
      "[0.16447368 0.         1.         2.         4.        ]\n",
      "Column: B9_Miscarriages\n",
      "[0.53289474 0.         2.         1.         7.         5.\n",
      " 8.         4.         3.        ]\n",
      "Column: B10_Birth_Defects\n",
      "[2 1]\n",
      "Column: B12_Child_Order\n",
      "[ 2.69023569  1.          4.          3.          2.          6.\n",
      "  7.          5.          9.         11.        ]\n",
      "Column: B13_Child_Siblings\n",
      "[ 3.24242424  3.          4.          6.          1.          5.\n",
      "  2.          7.          9.          8.         11.        ]\n",
      "Column: C3_FMS_3\n",
      "[7 1 6 2 5 4 8 3]\n",
      "Column: C4_FloorSetting\n",
      "[1 2]\n",
      "Column: C5_FloorSetting_a\n",
      "[0 1]\n",
      "Column: C6_FloorSetting_b\n",
      "[1 0]\n",
      "Column: C7_FloorSetting_c\n",
      "[0 1]\n",
      "Column: C8_FloorSetting_d\n",
      "[0 1]\n",
      "Column: C9_FloorSetting_e\n",
      "[1 0]\n",
      "Column: C10_FloorSetting_f\n",
      "[0 1]\n",
      "Column: C11_ChairSetting\n",
      "[1 2]\n",
      "Column: C12_ChairSetting_a\n",
      "[0 1]\n",
      "Column: C13_ChairSetting_b\n",
      "[1 0]\n",
      "Column: C14_ChairSetting_c\n",
      "[0 1]\n",
      "Column: C15_ChairSetting_d\n",
      "[0]\n",
      "Column: C16_Setting_to_Standing\n",
      "[1 2]\n",
      "Column: C17_Setting_to_Standing_1\n",
      "[2 3 1 0]\n",
      "Column: C18_Setting_to_Standing_2\n",
      "[1 3 2 0]\n",
      "Column: C19_Setting_to_Standing_3\n",
      "[2 3 1 0]\n",
      "Column: C20_Setting_to_Standing_4\n",
      "[2 3 1 0]\n",
      "Column: C21_Standing\n",
      "[1 2]\n",
      "Column: C22_Standing_a\n",
      "[1 0]\n",
      "Column: C23_Standing_b\n",
      "[0 1]\n",
      "Column: C36_Stair_Climbing_Upwards\n",
      "[2 1]\n",
      "Column: C37_Stair_Climbing_Upwards_a\n",
      "[0 1]\n",
      "Column: C38_Stair_Climbing_Upwards_b\n",
      "[0 1]\n",
      "Column: C39_Stair_Climbing_Upwards_c\n",
      "[0 1]\n",
      "Column: C40_Stair_Climbing_Upwards_d\n",
      "[0 1]\n",
      "Column: C41_Stair_Climbing_Upwards_e\n",
      "[0 1]\n",
      "Column: C42_Stair_Climbing_Upwards_f\n",
      "[0]\n",
      "Column: C43_Stair_Climbing_Downwards\n",
      "[2 1]\n",
      "Column: C44_Stair_Climbing_Downwards_a\n",
      "[0 1]\n",
      "Column: C45_Stair_Climbing_Downwards_b\n",
      "[0 1]\n",
      "Column: C46_Stair_Climbing_Downwards_c\n",
      "[0 1]\n",
      "Column: C47_Stair_Climbing_Downwards_d\n",
      "[0 1]\n",
      "Column: C48_Stair_Climbing_Downwards_e\n",
      "[0 1]\n",
      "Column: C49_Stair_Climbing_Downwards_f\n",
      "[0]\n",
      "Column: C50_Cycling\n",
      "[2 1]\n",
      "Column: C51_Cycling_Freq\n",
      "[0 1 2 3]\n",
      "Column: C52_Physical_Leisure_Acrivities\n",
      "[2 1]\n",
      "Column: C53_Physical_Leisure_Acrivities_a\n",
      "[0 1]\n",
      "Column: C54_Physical_Leisure_Acrivities_b\n",
      "[0]\n",
      "Column: C55_Physical_Leisure_Acrivities_c\n",
      "[0]\n",
      "Column: C56_Physical_Leisure_Acrivities_d\n",
      "[0]\n",
      "Column: C57_Physical_Leisure_Acrivities_e\n",
      "[0]\n",
      "Column: C58_Physical_Leisure_Acrivities_f\n",
      "[0 1]\n",
      "Column: C59_Physical_Leisure_Acrivities_g\n",
      "[0 1]\n",
      "Column: C60_Impairment_1_Vision\n",
      "[2 1]\n",
      "Column: C61_Impairment_1_Vision_Treatment\n",
      "[2 1]\n",
      "Column: C62_Impairment_2_Hearing\n",
      "[2 1]\n",
      "Column: C63_Impairment_2_Hearing_Treatment\n",
      "[2 1]\n",
      "Column: C64_Impairment_3_Epilepsy_Seizures\n",
      "[2 1]\n",
      "Column: C65_Impairment_3_Epilepsy_Seizures_Treatment\n",
      "[2 1]\n",
      "Column: C66_Impairment_4_Speech\n",
      "[2 1]\n",
      "Column: C67_Impairment_4_Speech_Treatment\n",
      "[2 1]\n",
      "Column: C68_Impairment_5_Cognitive\n",
      "[2 1]\n",
      "Column: C69_Impairment_5_Cognitive_Treatment\n",
      "[2 1]\n",
      "Column: C70_Pain_Reporting\n",
      "[2 1]\n",
      "Column: C71_Pain_Reporting_a\n",
      "[0 1]\n",
      "Column: C72_Pain_Reporting_b\n",
      "[0 1]\n",
      "Column: C73_Pain_Reporting_c\n",
      "[0 1]\n",
      "Column: C74_Pain_Reporting_d\n",
      "[0 1]\n",
      "Column: C75_Pain_Reporting_e\n",
      "[0 1]\n",
      "Column: C76_Pain_Reporting_f\n",
      "[0 1]\n",
      "Column: C77_Pain_Reporting_g\n",
      "[0 1]\n",
      "Column: C78_Pain_Reporting_h\n",
      "[0]\n",
      "Column: C79_Pain_Reporting_i\n",
      "[0]\n",
      "Column: C80_Pain_Reporting_j\n",
      "[0 1]\n",
      "Column: C81_Pain_Reporting_k\n",
      "[0 3 2 4 1]\n",
      "Column: C82_Fractures\n",
      "[2 1]\n",
      "Column: C83_Fractures_a\n",
      "[0 1]\n",
      "Column: C84_Fractures_b\n",
      "[0 1]\n",
      "Column: C85_Fractures_c\n",
      "[0]\n",
      "Column: C86_Fractures_d\n",
      "[0 1]\n",
      "Column: D1_Had_Surgery\n",
      "[2 1]\n",
      "Column: D2_Had_Surgery_1_Type\n",
      "[ 0 15 19 43 40 39 25  7 58 41  9 14 28 44  4 29 47 17 53 49 23 45 54 35\n",
      " 37  6 42 50 55 56 38 30 32 24 57 20 31 48 34 10 11 26 13 33]\n",
      "Column: D4_Had_Surgery_2_Type\n",
      "[ 0 18  8  1  2 51 60 52 19  3 29 46 35 39 12 21 43 27 25 59]\n",
      "Column: D6_Had_Surgery_3_Type\n",
      "[ 0 51 39 16  8 32 19 22 36  5]\n",
      "Column: D8_Had_Surgery_No\n",
      "[0 1 2 3]\n",
      "Column: H1_MACS\n",
      "[2 1 3 5 4]\n",
      "Column: H2_Communication_Methods_a\n",
      "[0 1]\n",
      "Column: H3_Communication_Methods_b\n",
      "[0 1]\n",
      "Column: H4_Communication_Methods_c\n",
      "[0 1]\n",
      "Column: H5_Communication_Methods_d\n",
      "[0 1]\n",
      "Column: H6_Communication_Methods_e\n",
      "[0 1]\n",
      "Column: H7_Communication_Methods_f\n",
      "[0 1]\n",
      "Column: H8_Communication_Methods_g\n",
      "[0 1]\n",
      "Column: H10_Dominant_hand\n",
      "[1 2 3 4]\n",
      "Column: H11_Bimanual_Ability\n",
      "[1 2]\n",
      "Column: H12_Cross_Midline_Ability\n",
      "[2 1 3 4]\n",
      "Column: H31_Thumb_in_Palm\n",
      "[2 1]\n",
      "Column: H32_Thumb_in_Palm_Classification\n",
      "[0 1 3 4 2]\n",
      "Column: H33_Gross_Grasp_Pattern_R\n",
      "[6 5 3 1 4 2]\n",
      "Column: H34_Gross_Grasp_Pattern_R_Other\n",
      "[0 4]\n",
      "Column: H35_Gross_Grasp_Pattern_L\n",
      "[5 1 3 6 2 4]\n",
      "Column: H36_Gross_Grasp_Pattern_L_Other\n",
      "[0 4]\n",
      "Column: H37_Pincer_Grasp_Pattern_R\n",
      "[4 3 2 1 5]\n",
      "Column: H38_Pincer_Grasp_Pattern_R_Other\n",
      "[0 4 1]\n",
      "Column: H39_Pincer_Grasp_Pattern_L\n",
      "[1 3 4 2 5]\n",
      "Column: H40_Pincer_Grasp_Pattern_L_Other\n",
      "[0 3 2 1]\n",
      "Column: H41_Hand_Release_R\n",
      "[1 4 3 2]\n",
      "Column: H42_Hand_Release_R_Blocks\n",
      "[ 0  8  9 10  4  2  6  3]\n",
      "Column: H43_Hand_Release_L\n",
      "[2 4 3 1]\n",
      "Column: H44_Hand_Release_L_Blocks\n",
      "[ 0  8  6 10  9  4  5  3  7]\n",
      "Column: F2_CP_Type_Assessor_Report (text)\n",
      "['Spastic' 'Ataxic' 'Dyskineti' 'Hypotonia' 'Unknown' 'Mixed']\n"
     ]
    }
   ],
   "source": [
    "for column in df.columns:\n",
    "    print(f\"Column: {column}\")\n",
    "    # Print the unique values for the column\n",
    "    print(df[column].unique())"
   ]
  },
  {
   "cell_type": "code",
   "execution_count": 10,
   "id": "6259abb3",
   "metadata": {},
   "outputs": [],
   "source": [
    "# Check for null values in the DataFrame\n",
    "null_values = X.isnull().any()\n",
    "\n",
    "# Loop through each column with null values\n",
    "for column in null_values[null_values].index:\n",
    "    # Replace null values with 0\n",
    "    X[column].fillna(0, inplace=True)"
   ]
  },
  {
   "cell_type": "markdown",
   "id": "47e3a8b2",
   "metadata": {},
   "source": [
    "#### Data Visualisation"
   ]
  },
  {
   "cell_type": "code",
   "execution_count": 11,
   "id": "08169f40",
   "metadata": {},
   "outputs": [
    {
     "data": {
      "image/png": "[encoded data removed]",
      "text/plain": [
       "<Figure size 1000x600 with 1 Axes>"
      ]
     },
     "metadata": {},
     "output_type": "display_data"
    }
   ],
   "source": [
    "value_counts = df['F2_CP_Type_Assessor_Report (text)'].value_counts()\n",
    "\n",
    "# Plotting the bar chart\n",
    "plt.figure(figsize=(10, 6))  # Adjust figure size as needed\n",
    "value_counts.plot(kind='bar')\n",
    "plt.xlabel('Categories')\n",
    "plt.ylabel('Count')\n",
    "plt.title('Count of Elements in Categorical Column')\n",
    "plt.savefig('CP_train_data.png')\n",
    "plt.show()"
   ]
  },
  {
   "cell_type": "code",
   "execution_count": 12,
   "id": "02782285",
   "metadata": {},
   "outputs": [],
   "source": [
    "category_mapping = {\n",
    "    'Spastic':0,\n",
    "    'Ataxic':1,\n",
    "    'Dyskineti':2,\n",
    "    'Hypotonia':3,\n",
    "    'Unknown':4,\n",
    "    'Mixed':5\n",
    "}\n",
    "df['target'] = df['F2_CP_Type_Assessor_Report (text)'].map(category_mapping)"
   ]
  },
  {
   "cell_type": "code",
   "execution_count": 13,
   "id": "5f94e6a0",
   "metadata": {},
   "outputs": [
    {
     "data": {
      "text/plain": [
       "0      0\n",
       "1      0\n",
       "2      1\n",
       "3      0\n",
       "4      0\n",
       "      ..\n",
       "300    0\n",
       "301    0\n",
       "302    2\n",
       "303    0\n",
       "304    0\n",
       "Name: target, Length: 305, dtype: int64"
      ]
     },
     "execution_count": 13,
     "metadata": {},
     "output_type": "execute_result"
    }
   ],
   "source": [
    "df['target']"
   ]
  },
  {
   "cell_type": "code",
   "execution_count": 14,
   "id": "466795a3",
   "metadata": {},
   "outputs": [],
   "source": [
    "Y = df['target']"
   ]
  },
  {
   "cell_type": "markdown",
   "id": "f4103ab1",
   "metadata": {},
   "source": [
    "#### Scaling the dataset"
   ]
  },
  {
   "cell_type": "code",
   "execution_count": 15,
   "id": "d9452fda",
   "metadata": {},
   "outputs": [],
   "source": [
    "cols_to_scale = ['B2_Birth_Weight']\n",
    "from sklearn.preprocessing import MinMaxScaler\n",
    "scaler = MinMaxScaler()\n",
    "X[cols_to_scale] = scaler.fit_transform(X[cols_to_scale])"
   ]
  },
  {
   "cell_type": "markdown",
   "id": "345def8b",
   "metadata": {},
   "source": [
    "#### Train Test Split"
   ]
  },
  {
   "cell_type": "code",
   "execution_count": 16,
   "id": "88988347",
   "metadata": {},
   "outputs": [],
   "source": [
    "from sklearn.model_selection import train_test_split\n",
    "X_train, X_test, y_train, y_test = train_test_split(X,Y,test_size=0.2,random_state=5)"
   ]
  },
  {
   "cell_type": "code",
   "execution_count": 17,
   "id": "a5ed468f",
   "metadata": {},
   "outputs": [
    {
     "data": {
      "text/plain": [
       "(244, 117)"
      ]
     },
     "execution_count": 17,
     "metadata": {},
     "output_type": "execute_result"
    }
   ],
   "source": [
    "X_train.shape"
   ]
  },
  {
   "cell_type": "code",
   "execution_count": 18,
   "id": "bc7553c9",
   "metadata": {},
   "outputs": [
    {
     "data": {
      "text/plain": [
       "(61, 117)"
      ]
     },
     "execution_count": 18,
     "metadata": {},
     "output_type": "execute_result"
    }
   ],
   "source": [
    "X_test.shape"
   ]
  },
  {
   "cell_type": "markdown",
   "id": "04fcc044",
   "metadata": {},
   "source": [
    "### Logistic Regression Model"
   ]
  },
  {
   "cell_type": "markdown",
   "id": "77b9a605",
   "metadata": {},
   "source": [
    "#### Building the Model"
   ]
  },
  {
   "cell_type": "code",
   "execution_count": 44,
   "id": "d1443943",
   "metadata": {},
   "outputs": [],
   "source": [
    "from sklearn.linear_model import LogisticRegression\n",
    "model = LogisticRegression()"
   ]
  },
  {
   "cell_type": "markdown",
   "id": "209ef453",
   "metadata": {},
   "source": [
    "#### Training the Model"
   ]
  },
  {
   "cell_type": "code",
   "execution_count": 45,
   "id": "e88e1422",
   "metadata": {},
   "outputs": [
    {
     "name": "stderr",
     "output_type": "stream",
     "text": [
      "/opt/anaconda3/lib/python3.9/site-packages/sklearn/linear_model/_logistic.py:444: ConvergenceWarning: lbfgs failed to converge (status=1):\n",
      "STOP: TOTAL NO. of ITERATIONS REACHED LIMIT.\n",
      "\n",
      "Increase the number of iterations (max_iter) or scale the data as shown in:\n",
      "    https://scikit-learn.org/stable/modules/preprocessing.html\n",
      "Please also refer to the documentation for alternative solver options:\n",
      "    https://scikit-learn.org/stable/modules/linear_model.html#logistic-regression\n",
      "  n_iter_i = _check_optimize_result(\n"
     ]
    },
    {
     "data": {
      "text/html": [
       "<style>#sk-container-id-1 {color: black;background-color: white;}#sk-container-id-1 pre{padding: 0;}#sk-container-id-1 div.sk-toggleable {background-color: white;}#sk-container-id-1 label.sk-toggleable__label {cursor: pointer;display: block;width: 100%;margin-bottom: 0;padding: 0.3em;box-sizing: border-box;text-align: center;}#sk-container-id-1 label.sk-toggleable__label-arrow:before {content: \"▸\";float: left;margin-right: 0.25em;color: #696969;}#sk-container-id-1 label.sk-toggleable__label-arrow:hover:before {color: black;}#sk-container-id-1 div.sk-estimator:hover label.sk-toggleable__label-arrow:before {color: black;}#sk-container-id-1 div.sk-toggleable__content {max-height: 0;max-width: 0;overflow: hidden;text-align: left;background-color: #f0f8ff;}#sk-container-id-1 div.sk-toggleable__content pre {margin: 0.2em;color: black;border-radius: 0.25em;background-color: #f0f8ff;}#sk-container-id-1 input.sk-toggleable__control:checked~div.sk-toggleable__content {max-height: 200px;max-width: 100%;overflow: auto;}#sk-container-id-1 input.sk-toggleable__control:checked~label.sk-toggleable__label-arrow:before {content: \"▾\";}#sk-container-id-1 div.sk-estimator input.sk-toggleable__control:checked~label.sk-toggleable__label {background-color: #d4ebff;}#sk-container-id-1 div.sk-label input.sk-toggleable__control:checked~label.sk-toggleable__label {background-color: #d4ebff;}#sk-container-id-1 input.sk-hidden--visually {border: 0;clip: rect(1px 1px 1px 1px);clip: rect(1px, 1px, 1px, 1px);height: 1px;margin: -1px;overflow: hidden;padding: 0;position: absolute;width: 1px;}#sk-container-id-1 div.sk-estimator {font-family: monospace;background-color: #f0f8ff;border: 1px dotted black;border-radius: 0.25em;box-sizing: border-box;margin-bottom: 0.5em;}#sk-container-id-1 div.sk-estimator:hover {background-color: #d4ebff;}#sk-container-id-1 div.sk-parallel-item::after {content: \"\";width: 100%;border-bottom: 1px solid gray;flex-grow: 1;}#sk-container-id-1 div.sk-label:hover label.sk-toggleable__label {background-color: #d4ebff;}#sk-container-id-1 div.sk-serial::before {content: \"\";position: absolute;border-left: 1px solid gray;box-sizing: border-box;top: 0;bottom: 0;left: 50%;z-index: 0;}#sk-container-id-1 div.sk-serial {display: flex;flex-direction: column;align-items: center;background-color: white;padding-right: 0.2em;padding-left: 0.2em;position: relative;}#sk-container-id-1 div.sk-item {position: relative;z-index: 1;}#sk-container-id-1 div.sk-parallel {display: flex;align-items: stretch;justify-content: center;background-color: white;position: relative;}#sk-container-id-1 div.sk-item::before, #sk-container-id-1 div.sk-parallel-item::before {content: \"\";position: absolute;border-left: 1px solid gray;box-sizing: border-box;top: 0;bottom: 0;left: 50%;z-index: -1;}#sk-container-id-1 div.sk-parallel-item {display: flex;flex-direction: column;z-index: 1;position: relative;background-color: white;}#sk-container-id-1 div.sk-parallel-item:first-child::after {align-self: flex-end;width: 50%;}#sk-container-id-1 div.sk-parallel-item:last-child::after {align-self: flex-start;width: 50%;}#sk-container-id-1 div.sk-parallel-item:only-child::after {width: 0;}#sk-container-id-1 div.sk-dashed-wrapped {border: 1px dashed gray;margin: 0 0.4em 0.5em 0.4em;box-sizing: border-box;padding-bottom: 0.4em;background-color: white;}#sk-container-id-1 div.sk-label label {font-family: monospace;font-weight: bold;display: inline-block;line-height: 1.2em;}#sk-container-id-1 div.sk-label-container {text-align: center;}#sk-container-id-1 div.sk-container {/* jupyter's `normalize.less` sets `[hidden] { display: none; }` but bootstrap.min.css set `[hidden] { display: none !important; }` so we also need the `!important` here to be able to override the default hidden behavior on the sphinx rendered scikit-learn.org. See: https://github.com/scikit-learn/scikit-learn/issues/21755 */display: inline-block !important;position: relative;}#sk-container-id-1 div.sk-text-repr-fallback {display: none;}</style><div id=\"sk-container-id-1\" class=\"sk-top-container\"><div class=\"sk-text-repr-fallback\"><pre>LogisticRegression()</pre><b>In a Jupyter environment, please rerun this cell to show the HTML representation or trust the notebook. <br />On GitHub, the HTML representation is unable to render, please try loading this page with nbviewer.org.</b></div><div class=\"sk-container\" hidden><div class=\"sk-item\"><div class=\"sk-estimator sk-toggleable\"><input class=\"sk-toggleable__control sk-hidden--visually\" id=\"sk-estimator-id-1\" type=\"checkbox\" checked><label for=\"sk-estimator-id-1\" class=\"sk-toggleable__label sk-toggleable__label-arrow\">LogisticRegression</label><div class=\"sk-toggleable__content\"><pre>LogisticRegression()</pre></div></div></div></div></div>"
      ],
      "text/plain": [
       "LogisticRegression()"
      ]
     },
     "execution_count": 45,
     "metadata": {},
     "output_type": "execute_result"
    }
   ],
   "source": [
    "model.fit(X_train, y_train)"
   ]
  },
  {
   "cell_type": "markdown",
   "id": "9de59f3e",
   "metadata": {},
   "source": [
    "#### Finding Performance Metrics"
   ]
  },
  {
   "cell_type": "code",
   "execution_count": 46,
   "id": "4b91d749",
   "metadata": {},
   "outputs": [
    {
     "data": {
      "text/plain": [
       "0.7868852459016393"
      ]
     },
     "execution_count": 46,
     "metadata": {},
     "output_type": "execute_result"
    }
   ],
   "source": [
    "model.score(X_test, y_test)"
   ]
  },
  {
   "cell_type": "code",
   "execution_count": 50,
   "id": "31744026",
   "metadata": {},
   "outputs": [
    {
     "name": "stdout",
     "output_type": "stream",
     "text": [
      "              precision    recall  f1-score   support\n",
      "\n",
      "           0       0.85      0.89      0.87        46\n",
      "           1       0.00      0.00      0.00         1\n",
      "           3       0.40      0.44      0.42         9\n",
      "           4       1.00      0.60      0.75         5\n",
      "\n",
      "    accuracy                           0.79        61\n",
      "   macro avg       0.56      0.48      0.51        61\n",
      "weighted avg       0.79      0.79      0.78        61\n",
      "\n"
     ]
    },
    {
     "name": "stderr",
     "output_type": "stream",
     "text": [
      "/opt/anaconda3/lib/python3.9/site-packages/sklearn/metrics/_classification.py:1334: UndefinedMetricWarning: Precision and F-score are ill-defined and being set to 0.0 in labels with no predicted samples. Use `zero_division` parameter to control this behavior.\n",
      "  _warn_prf(average, modifier, msg_start, len(result))\n",
      "/opt/anaconda3/lib/python3.9/site-packages/sklearn/metrics/_classification.py:1334: UndefinedMetricWarning: Precision and F-score are ill-defined and being set to 0.0 in labels with no predicted samples. Use `zero_division` parameter to control this behavior.\n",
      "  _warn_prf(average, modifier, msg_start, len(result))\n",
      "/opt/anaconda3/lib/python3.9/site-packages/sklearn/metrics/_classification.py:1334: UndefinedMetricWarning: Precision and F-score are ill-defined and being set to 0.0 in labels with no predicted samples. Use `zero_division` parameter to control this behavior.\n",
      "  _warn_prf(average, modifier, msg_start, len(result))\n"
     ]
    }
   ],
   "source": [
    "from sklearn.metrics import classification_report\n",
    "\n",
    "y_predicted = model.predict(X_test)\n",
    "print(classification_report(y_test,y_predicted))"
   ]
  },
  {
   "cell_type": "code",
   "execution_count": 52,
   "id": "eac4375c",
   "metadata": {},
   "outputs": [
    {
     "data": {
      "text/plain": [
       "Text(95.72222222222221, 0.5, 'Truth')"
      ]
     },
     "execution_count": 52,
     "metadata": {},
     "output_type": "execute_result"
    },
    {
     "data": {
      "image/png": "[encoded data removed]",
      "text/plain": [
       "<Figure size 1000x700 with 2 Axes>"
      ]
     },
     "metadata": {},
     "output_type": "display_data"
    }
   ],
   "source": [
    "import seaborn as sn\n",
    "import tensorflow as tf\n",
    "\n",
    "cm = tf.math.confusion_matrix(labels=y_test,predictions=y_predicted)\n",
    "plt.figure(figsize = (10,7))\n",
    "sn.heatmap(cm, annot=True)\n",
    "plt.xlabel('Predicted')\n",
    "plt.ylabel('Truth')"
   ]
  },
  {
   "cell_type": "markdown",
   "id": "27f718bf",
   "metadata": {},
   "source": [
    "### Decision Tree Model"
   ]
  },
  {
   "cell_type": "markdown",
   "id": "8b46dceb",
   "metadata": {},
   "source": [
    "#### Building the Model"
   ]
  },
  {
   "cell_type": "code",
   "execution_count": 55,
   "id": "61c8abd0",
   "metadata": {},
   "outputs": [],
   "source": [
    "from sklearn import tree\n",
    "model = tree.DecisionTreeClassifier()"
   ]
  },
  {
   "cell_type": "markdown",
   "id": "dc259337",
   "metadata": {},
   "source": [
    "#### Training the Model"
   ]
  },
  {
   "cell_type": "code",
   "execution_count": 56,
   "id": "c8764c70",
   "metadata": {},
   "outputs": [
    {
     "data": {
      "text/html": [
       "<style>#sk-container-id-2 {color: black;background-color: white;}#sk-container-id-2 pre{padding: 0;}#sk-container-id-2 div.sk-toggleable {background-color: white;}#sk-container-id-2 label.sk-toggleable__label {cursor: pointer;display: block;width: 100%;margin-bottom: 0;padding: 0.3em;box-sizing: border-box;text-align: center;}#sk-container-id-2 label.sk-toggleable__label-arrow:before {content: \"▸\";float: left;margin-right: 0.25em;color: #696969;}#sk-container-id-2 label.sk-toggleable__label-arrow:hover:before {color: black;}#sk-container-id-2 div.sk-estimator:hover label.sk-toggleable__label-arrow:before {color: black;}#sk-container-id-2 div.sk-toggleable__content {max-height: 0;max-width: 0;overflow: hidden;text-align: left;background-color: #f0f8ff;}#sk-container-id-2 div.sk-toggleable__content pre {margin: 0.2em;color: black;border-radius: 0.25em;background-color: #f0f8ff;}#sk-container-id-2 input.sk-toggleable__control:checked~div.sk-toggleable__content {max-height: 200px;max-width: 100%;overflow: auto;}#sk-container-id-2 input.sk-toggleable__control:checked~label.sk-toggleable__label-arrow:before {content: \"▾\";}#sk-container-id-2 div.sk-estimator input.sk-toggleable__control:checked~label.sk-toggleable__label {background-color: #d4ebff;}#sk-container-id-2 div.sk-label input.sk-toggleable__control:checked~label.sk-toggleable__label {background-color: #d4ebff;}#sk-container-id-2 input.sk-hidden--visually {border: 0;clip: rect(1px 1px 1px 1px);clip: rect(1px, 1px, 1px, 1px);height: 1px;margin: -1px;overflow: hidden;padding: 0;position: absolute;width: 1px;}#sk-container-id-2 div.sk-estimator {font-family: monospace;background-color: #f0f8ff;border: 1px dotted black;border-radius: 0.25em;box-sizing: border-box;margin-bottom: 0.5em;}#sk-container-id-2 div.sk-estimator:hover {background-color: #d4ebff;}#sk-container-id-2 div.sk-parallel-item::after {content: \"\";width: 100%;border-bottom: 1px solid gray;flex-grow: 1;}#sk-container-id-2 div.sk-label:hover label.sk-toggleable__label {background-color: #d4ebff;}#sk-container-id-2 div.sk-serial::before {content: \"\";position: absolute;border-left: 1px solid gray;box-sizing: border-box;top: 0;bottom: 0;left: 50%;z-index: 0;}#sk-container-id-2 div.sk-serial {display: flex;flex-direction: column;align-items: center;background-color: white;padding-right: 0.2em;padding-left: 0.2em;position: relative;}#sk-container-id-2 div.sk-item {position: relative;z-index: 1;}#sk-container-id-2 div.sk-parallel {display: flex;align-items: stretch;justify-content: center;background-color: white;position: relative;}#sk-container-id-2 div.sk-item::before, #sk-container-id-2 div.sk-parallel-item::before {content: \"\";position: absolute;border-left: 1px solid gray;box-sizing: border-box;top: 0;bottom: 0;left: 50%;z-index: -1;}#sk-container-id-2 div.sk-parallel-item {display: flex;flex-direction: column;z-index: 1;position: relative;background-color: white;}#sk-container-id-2 div.sk-parallel-item:first-child::after {align-self: flex-end;width: 50%;}#sk-container-id-2 div.sk-parallel-item:last-child::after {align-self: flex-start;width: 50%;}#sk-container-id-2 div.sk-parallel-item:only-child::after {width: 0;}#sk-container-id-2 div.sk-dashed-wrapped {border: 1px dashed gray;margin: 0 0.4em 0.5em 0.4em;box-sizing: border-box;padding-bottom: 0.4em;background-color: white;}#sk-container-id-2 div.sk-label label {font-family: monospace;font-weight: bold;display: inline-block;line-height: 1.2em;}#sk-container-id-2 div.sk-label-container {text-align: center;}#sk-container-id-2 div.sk-container {/* jupyter's `normalize.less` sets `[hidden] { display: none; }` but bootstrap.min.css set `[hidden] { display: none !important; }` so we also need the `!important` here to be able to override the default hidden behavior on the sphinx rendered scikit-learn.org. See: https://github.com/scikit-learn/scikit-learn/issues/21755 */display: inline-block !important;position: relative;}#sk-container-id-2 div.sk-text-repr-fallback {display: none;}</style><div id=\"sk-container-id-2\" class=\"sk-top-container\"><div class=\"sk-text-repr-fallback\"><pre>DecisionTreeClassifier()</pre><b>In a Jupyter environment, please rerun this cell to show the HTML representation or trust the notebook. <br />On GitHub, the HTML representation is unable to render, please try loading this page with nbviewer.org.</b></div><div class=\"sk-container\" hidden><div class=\"sk-item\"><div class=\"sk-estimator sk-toggleable\"><input class=\"sk-toggleable__control sk-hidden--visually\" id=\"sk-estimator-id-2\" type=\"checkbox\" checked><label for=\"sk-estimator-id-2\" class=\"sk-toggleable__label sk-toggleable__label-arrow\">DecisionTreeClassifier</label><div class=\"sk-toggleable__content\"><pre>DecisionTreeClassifier()</pre></div></div></div></div></div>"
      ],
      "text/plain": [
       "DecisionTreeClassifier()"
      ]
     },
     "execution_count": 56,
     "metadata": {},
     "output_type": "execute_result"
    }
   ],
   "source": [
    "model.fit(X_train, y_train)"
   ]
  },
  {
   "cell_type": "markdown",
   "id": "22d13a90",
   "metadata": {},
   "source": [
    "#### Finding Performance Metrics"
   ]
  },
  {
   "cell_type": "code",
   "execution_count": 58,
   "id": "eda41702",
   "metadata": {},
   "outputs": [
    {
     "data": {
      "text/plain": [
       "1.0"
      ]
     },
     "execution_count": 58,
     "metadata": {},
     "output_type": "execute_result"
    }
   ],
   "source": [
    "model.score(X_train,y_train)"
   ]
  },
  {
   "cell_type": "code",
   "execution_count": 59,
   "id": "efcbb131",
   "metadata": {},
   "outputs": [
    {
     "data": {
      "text/plain": [
       "0.5737704918032787"
      ]
     },
     "execution_count": 59,
     "metadata": {},
     "output_type": "execute_result"
    }
   ],
   "source": [
    "model.score(X_test,y_test)"
   ]
  },
  {
   "cell_type": "markdown",
   "id": "9231878b",
   "metadata": {},
   "source": [
    "#### Using Ensemble Learning to improve Decision Tree Score -- Random Forests"
   ]
  },
  {
   "cell_type": "code",
   "execution_count": 94,
   "id": "1be83d13",
   "metadata": {},
   "outputs": [
    {
     "data": {
      "text/html": [
       "<style>#sk-container-id-20 {color: black;background-color: white;}#sk-container-id-20 pre{padding: 0;}#sk-container-id-20 div.sk-toggleable {background-color: white;}#sk-container-id-20 label.sk-toggleable__label {cursor: pointer;display: block;width: 100%;margin-bottom: 0;padding: 0.3em;box-sizing: border-box;text-align: center;}#sk-container-id-20 label.sk-toggleable__label-arrow:before {content: \"▸\";float: left;margin-right: 0.25em;color: #696969;}#sk-container-id-20 label.sk-toggleable__label-arrow:hover:before {color: black;}#sk-container-id-20 div.sk-estimator:hover label.sk-toggleable__label-arrow:before {color: black;}#sk-container-id-20 div.sk-toggleable__content {max-height: 0;max-width: 0;overflow: hidden;text-align: left;background-color: #f0f8ff;}#sk-container-id-20 div.sk-toggleable__content pre {margin: 0.2em;color: black;border-radius: 0.25em;background-color: #f0f8ff;}#sk-container-id-20 input.sk-toggleable__control:checked~div.sk-toggleable__content {max-height: 200px;max-width: 100%;overflow: auto;}#sk-container-id-20 input.sk-toggleable__control:checked~label.sk-toggleable__label-arrow:before {content: \"▾\";}#sk-container-id-20 div.sk-estimator input.sk-toggleable__control:checked~label.sk-toggleable__label {background-color: #d4ebff;}#sk-container-id-20 div.sk-label input.sk-toggleable__control:checked~label.sk-toggleable__label {background-color: #d4ebff;}#sk-container-id-20 input.sk-hidden--visually {border: 0;clip: rect(1px 1px 1px 1px);clip: rect(1px, 1px, 1px, 1px);height: 1px;margin: -1px;overflow: hidden;padding: 0;position: absolute;width: 1px;}#sk-container-id-20 div.sk-estimator {font-family: monospace;background-color: #f0f8ff;border: 1px dotted black;border-radius: 0.25em;box-sizing: border-box;margin-bottom: 0.5em;}#sk-container-id-20 div.sk-estimator:hover {background-color: #d4ebff;}#sk-container-id-20 div.sk-parallel-item::after {content: \"\";width: 100%;border-bottom: 1px solid gray;flex-grow: 1;}#sk-container-id-20 div.sk-label:hover label.sk-toggleable__label {background-color: #d4ebff;}#sk-container-id-20 div.sk-serial::before {content: \"\";position: absolute;border-left: 1px solid gray;box-sizing: border-box;top: 0;bottom: 0;left: 50%;z-index: 0;}#sk-container-id-20 div.sk-serial {display: flex;flex-direction: column;align-items: center;background-color: white;padding-right: 0.2em;padding-left: 0.2em;position: relative;}#sk-container-id-20 div.sk-item {position: relative;z-index: 1;}#sk-container-id-20 div.sk-parallel {display: flex;align-items: stretch;justify-content: center;background-color: white;position: relative;}#sk-container-id-20 div.sk-item::before, #sk-container-id-20 div.sk-parallel-item::before {content: \"\";position: absolute;border-left: 1px solid gray;box-sizing: border-box;top: 0;bottom: 0;left: 50%;z-index: -1;}#sk-container-id-20 div.sk-parallel-item {display: flex;flex-direction: column;z-index: 1;position: relative;background-color: white;}#sk-container-id-20 div.sk-parallel-item:first-child::after {align-self: flex-end;width: 50%;}#sk-container-id-20 div.sk-parallel-item:last-child::after {align-self: flex-start;width: 50%;}#sk-container-id-20 div.sk-parallel-item:only-child::after {width: 0;}#sk-container-id-20 div.sk-dashed-wrapped {border: 1px dashed gray;margin: 0 0.4em 0.5em 0.4em;box-sizing: border-box;padding-bottom: 0.4em;background-color: white;}#sk-container-id-20 div.sk-label label {font-family: monospace;font-weight: bold;display: inline-block;line-height: 1.2em;}#sk-container-id-20 div.sk-label-container {text-align: center;}#sk-container-id-20 div.sk-container {/* jupyter's `normalize.less` sets `[hidden] { display: none; }` but bootstrap.min.css set `[hidden] { display: none !important; }` so we also need the `!important` here to be able to override the default hidden behavior on the sphinx rendered scikit-learn.org. See: https://github.com/scikit-learn/scikit-learn/issues/21755 */display: inline-block !important;position: relative;}#sk-container-id-20 div.sk-text-repr-fallback {display: none;}</style><div id=\"sk-container-id-20\" class=\"sk-top-container\"><div class=\"sk-text-repr-fallback\"><pre>RandomForestClassifier(n_estimators=50)</pre><b>In a Jupyter environment, please rerun this cell to show the HTML representation or trust the notebook. <br />On GitHub, the HTML representation is unable to render, please try loading this page with nbviewer.org.</b></div><div class=\"sk-container\" hidden><div class=\"sk-item\"><div class=\"sk-estimator sk-toggleable\"><input class=\"sk-toggleable__control sk-hidden--visually\" id=\"sk-estimator-id-20\" type=\"checkbox\" checked><label for=\"sk-estimator-id-20\" class=\"sk-toggleable__label sk-toggleable__label-arrow\">RandomForestClassifier</label><div class=\"sk-toggleable__content\"><pre>RandomForestClassifier(n_estimators=50)</pre></div></div></div></div></div>"
      ],
      "text/plain": [
       "RandomForestClassifier(n_estimators=50)"
      ]
     },
     "execution_count": 94,
     "metadata": {},
     "output_type": "execute_result"
    }
   ],
   "source": [
    "from sklearn.ensemble import RandomForestClassifier\n",
    "model = RandomForestClassifier(n_estimators=80)\n",
    "model.fit(X_train, y_train)"
   ]
  },
  {
   "cell_type": "code",
   "execution_count": 95,
   "id": "4c093659",
   "metadata": {},
   "outputs": [
    {
     "data": {
      "text/plain": [
       "0.7704918032786885"
      ]
     },
     "execution_count": 95,
     "metadata": {},
     "output_type": "execute_result"
    }
   ],
   "source": [
    "model.score(X_test, y_test)"
   ]
  },
  {
   "cell_type": "code",
   "execution_count": 96,
   "id": "78fd47ee",
   "metadata": {},
   "outputs": [
    {
     "name": "stdout",
     "output_type": "stream",
     "text": [
      "              precision    recall  f1-score   support\n",
      "\n",
      "           0       0.78      0.98      0.87        46\n",
      "           1       0.00      0.00      0.00         1\n",
      "           3       0.67      0.22      0.33         9\n",
      "           4       0.00      0.00      0.00         5\n",
      "\n",
      "    accuracy                           0.77        61\n",
      "   macro avg       0.36      0.30      0.30        61\n",
      "weighted avg       0.68      0.77      0.70        61\n",
      "\n"
     ]
    },
    {
     "name": "stderr",
     "output_type": "stream",
     "text": [
      "/opt/anaconda3/lib/python3.9/site-packages/sklearn/metrics/_classification.py:1334: UndefinedMetricWarning: Precision and F-score are ill-defined and being set to 0.0 in labels with no predicted samples. Use `zero_division` parameter to control this behavior.\n",
      "  _warn_prf(average, modifier, msg_start, len(result))\n",
      "/opt/anaconda3/lib/python3.9/site-packages/sklearn/metrics/_classification.py:1334: UndefinedMetricWarning: Precision and F-score are ill-defined and being set to 0.0 in labels with no predicted samples. Use `zero_division` parameter to control this behavior.\n",
      "  _warn_prf(average, modifier, msg_start, len(result))\n",
      "/opt/anaconda3/lib/python3.9/site-packages/sklearn/metrics/_classification.py:1334: UndefinedMetricWarning: Precision and F-score are ill-defined and being set to 0.0 in labels with no predicted samples. Use `zero_division` parameter to control this behavior.\n",
      "  _warn_prf(average, modifier, msg_start, len(result))\n"
     ]
    }
   ],
   "source": [
    "y_predicted = model.predict(X_test)\n",
    "print(classification_report(y_test,y_predicted))"
   ]
  },
  {
   "cell_type": "code",
   "execution_count": 97,
   "id": "f3249380",
   "metadata": {},
   "outputs": [
    {
     "data": {
      "text/plain": [
       "Text(95.72222222222221, 0.5, 'Truth')"
      ]
     },
     "execution_count": 97,
     "metadata": {},
     "output_type": "execute_result"
    },
    {
     "data": {
      "image/png": "[encoded data removed]",
      "text/plain": [
       "<Figure size 1000x700 with 2 Axes>"
      ]
     },
     "metadata": {},
     "output_type": "display_data"
    }
   ],
   "source": [
    "cm = tf.math.confusion_matrix(labels=y_test,predictions=y_predicted)\n",
    "plt.figure(figsize = (10,7))\n",
    "sn.heatmap(cm, annot=True)\n",
    "plt.xlabel('Predicted')\n",
    "plt.ylabel('Truth')"
   ]
  },
  {
   "cell_type": "markdown",
   "id": "78429d5c",
   "metadata": {},
   "source": [
    "### Support Vector Machine (SVM)"
   ]
  },
  {
   "cell_type": "markdown",
   "id": "f17eb900",
   "metadata": {},
   "source": [
    "#### Building the Model"
   ]
  },
  {
   "cell_type": "code",
   "execution_count": 98,
   "id": "5eb49024",
   "metadata": {},
   "outputs": [],
   "source": [
    "from sklearn.svm import SVC\n",
    "model = SVC()"
   ]
  },
  {
   "cell_type": "markdown",
   "id": "7d2681f8",
   "metadata": {},
   "source": [
    "#### Training the Model"
   ]
  },
  {
   "cell_type": "code",
   "execution_count": 99,
   "id": "c608381a",
   "metadata": {},
   "outputs": [
    {
     "data": {
      "text/html": [
       "<style>#sk-container-id-21 {color: black;background-color: white;}#sk-container-id-21 pre{padding: 0;}#sk-container-id-21 div.sk-toggleable {background-color: white;}#sk-container-id-21 label.sk-toggleable__label {cursor: pointer;display: block;width: 100%;margin-bottom: 0;padding: 0.3em;box-sizing: border-box;text-align: center;}#sk-container-id-21 label.sk-toggleable__label-arrow:before {content: \"▸\";float: left;margin-right: 0.25em;color: #696969;}#sk-container-id-21 label.sk-toggleable__label-arrow:hover:before {color: black;}#sk-container-id-21 div.sk-estimator:hover label.sk-toggleable__label-arrow:before {color: black;}#sk-container-id-21 div.sk-toggleable__content {max-height: 0;max-width: 0;overflow: hidden;text-align: left;background-color: #f0f8ff;}#sk-container-id-21 div.sk-toggleable__content pre {margin: 0.2em;color: black;border-radius: 0.25em;background-color: #f0f8ff;}#sk-container-id-21 input.sk-toggleable__control:checked~div.sk-toggleable__content {max-height: 200px;max-width: 100%;overflow: auto;}#sk-container-id-21 input.sk-toggleable__control:checked~label.sk-toggleable__label-arrow:before {content: \"▾\";}#sk-container-id-21 div.sk-estimator input.sk-toggleable__control:checked~label.sk-toggleable__label {background-color: #d4ebff;}#sk-container-id-21 div.sk-label input.sk-toggleable__control:checked~label.sk-toggleable__label {background-color: #d4ebff;}#sk-container-id-21 input.sk-hidden--visually {border: 0;clip: rect(1px 1px 1px 1px);clip: rect(1px, 1px, 1px, 1px);height: 1px;margin: -1px;overflow: hidden;padding: 0;position: absolute;width: 1px;}#sk-container-id-21 div.sk-estimator {font-family: monospace;background-color: #f0f8ff;border: 1px dotted black;border-radius: 0.25em;box-sizing: border-box;margin-bottom: 0.5em;}#sk-container-id-21 div.sk-estimator:hover {background-color: #d4ebff;}#sk-container-id-21 div.sk-parallel-item::after {content: \"\";width: 100%;border-bottom: 1px solid gray;flex-grow: 1;}#sk-container-id-21 div.sk-label:hover label.sk-toggleable__label {background-color: #d4ebff;}#sk-container-id-21 div.sk-serial::before {content: \"\";position: absolute;border-left: 1px solid gray;box-sizing: border-box;top: 0;bottom: 0;left: 50%;z-index: 0;}#sk-container-id-21 div.sk-serial {display: flex;flex-direction: column;align-items: center;background-color: white;padding-right: 0.2em;padding-left: 0.2em;position: relative;}#sk-container-id-21 div.sk-item {position: relative;z-index: 1;}#sk-container-id-21 div.sk-parallel {display: flex;align-items: stretch;justify-content: center;background-color: white;position: relative;}#sk-container-id-21 div.sk-item::before, #sk-container-id-21 div.sk-parallel-item::before {content: \"\";position: absolute;border-left: 1px solid gray;box-sizing: border-box;top: 0;bottom: 0;left: 50%;z-index: -1;}#sk-container-id-21 div.sk-parallel-item {display: flex;flex-direction: column;z-index: 1;position: relative;background-color: white;}#sk-container-id-21 div.sk-parallel-item:first-child::after {align-self: flex-end;width: 50%;}#sk-container-id-21 div.sk-parallel-item:last-child::after {align-self: flex-start;width: 50%;}#sk-container-id-21 div.sk-parallel-item:only-child::after {width: 0;}#sk-container-id-21 div.sk-dashed-wrapped {border: 1px dashed gray;margin: 0 0.4em 0.5em 0.4em;box-sizing: border-box;padding-bottom: 0.4em;background-color: white;}#sk-container-id-21 div.sk-label label {font-family: monospace;font-weight: bold;display: inline-block;line-height: 1.2em;}#sk-container-id-21 div.sk-label-container {text-align: center;}#sk-container-id-21 div.sk-container {/* jupyter's `normalize.less` sets `[hidden] { display: none; }` but bootstrap.min.css set `[hidden] { display: none !important; }` so we also need the `!important` here to be able to override the default hidden behavior on the sphinx rendered scikit-learn.org. See: https://github.com/scikit-learn/scikit-learn/issues/21755 */display: inline-block !important;position: relative;}#sk-container-id-21 div.sk-text-repr-fallback {display: none;}</style><div id=\"sk-container-id-21\" class=\"sk-top-container\"><div class=\"sk-text-repr-fallback\"><pre>SVC()</pre><b>In a Jupyter environment, please rerun this cell to show the HTML representation or trust the notebook. <br />On GitHub, the HTML representation is unable to render, please try loading this page with nbviewer.org.</b></div><div class=\"sk-container\" hidden><div class=\"sk-item\"><div class=\"sk-estimator sk-toggleable\"><input class=\"sk-toggleable__control sk-hidden--visually\" id=\"sk-estimator-id-21\" type=\"checkbox\" checked><label for=\"sk-estimator-id-21\" class=\"sk-toggleable__label sk-toggleable__label-arrow\">SVC</label><div class=\"sk-toggleable__content\"><pre>SVC()</pre></div></div></div></div></div>"
      ],
      "text/plain": [
       "SVC()"
      ]
     },
     "execution_count": 99,
     "metadata": {},
     "output_type": "execute_result"
    }
   ],
   "source": [
    "model.fit(X_train, y_train)"
   ]
  },
  {
   "cell_type": "markdown",
   "id": "4f1f7f60",
   "metadata": {},
   "source": [
    "#### Finding Performance Metrics"
   ]
  },
  {
   "cell_type": "code",
   "execution_count": 102,
   "id": "2ae71519",
   "metadata": {
    "scrolled": true
   },
   "outputs": [
    {
     "data": {
      "text/plain": [
       "0.7540983606557377"
      ]
     },
     "execution_count": 102,
     "metadata": {},
     "output_type": "execute_result"
    }
   ],
   "source": [
    "model.score(X_test,y_test)"
   ]
  },
  {
   "cell_type": "code",
   "execution_count": 104,
   "id": "8438263c",
   "metadata": {},
   "outputs": [
    {
     "name": "stdout",
     "output_type": "stream",
     "text": [
      "              precision    recall  f1-score   support\n",
      "\n",
      "           0       0.75      1.00      0.86        46\n",
      "           1       0.00      0.00      0.00         1\n",
      "           3       0.00      0.00      0.00         9\n",
      "           4       0.00      0.00      0.00         5\n",
      "\n",
      "    accuracy                           0.75        61\n",
      "   macro avg       0.19      0.25      0.21        61\n",
      "weighted avg       0.57      0.75      0.65        61\n",
      "\n"
     ]
    },
    {
     "name": "stderr",
     "output_type": "stream",
     "text": [
      "/opt/anaconda3/lib/python3.9/site-packages/sklearn/metrics/_classification.py:1334: UndefinedMetricWarning: Precision and F-score are ill-defined and being set to 0.0 in labels with no predicted samples. Use `zero_division` parameter to control this behavior.\n",
      "  _warn_prf(average, modifier, msg_start, len(result))\n",
      "/opt/anaconda3/lib/python3.9/site-packages/sklearn/metrics/_classification.py:1334: UndefinedMetricWarning: Precision and F-score are ill-defined and being set to 0.0 in labels with no predicted samples. Use `zero_division` parameter to control this behavior.\n",
      "  _warn_prf(average, modifier, msg_start, len(result))\n",
      "/opt/anaconda3/lib/python3.9/site-packages/sklearn/metrics/_classification.py:1334: UndefinedMetricWarning: Precision and F-score are ill-defined and being set to 0.0 in labels with no predicted samples. Use `zero_division` parameter to control this behavior.\n",
      "  _warn_prf(average, modifier, msg_start, len(result))\n"
     ]
    }
   ],
   "source": [
    "y_predicted = model.predict(X_test)\n",
    "print(classification_report(y_test,y_predicted))"
   ]
  },
  {
   "cell_type": "code",
   "execution_count": 105,
   "id": "80d3e6bc",
   "metadata": {},
   "outputs": [
    {
     "data": {
      "text/plain": [
       "Text(95.72222222222221, 0.5, 'Truth')"
      ]
     },
     "execution_count": 105,
     "metadata": {},
     "output_type": "execute_result"
    },
    {
     "data": {
      "image/png": "[encoded data removed]",
      "text/plain": [
       "<Figure size 1000x700 with 2 Axes>"
      ]
     },
     "metadata": {},
     "output_type": "display_data"
    }
   ],
   "source": [
    "cm = tf.math.confusion_matrix(labels=y_test,predictions=y_predicted)\n",
    "plt.figure(figsize = (10,7))\n",
    "sn.heatmap(cm, annot=True)\n",
    "plt.xlabel('Predicted')\n",
    "plt.ylabel('Truth')"
   ]
  },
  {
   "cell_type": "markdown",
   "id": "8eedb750",
   "metadata": {},
   "source": [
    "### Naive Bayes "
   ]
  },
  {
   "cell_type": "markdown",
   "id": "c2de6172",
   "metadata": {},
   "source": [
    "#### Building the Model"
   ]
  },
  {
   "cell_type": "code",
   "execution_count": 182,
   "id": "5e10dd7b",
   "metadata": {},
   "outputs": [],
   "source": [
    "from sklearn.naive_bayes import MultinomialNB \n",
    "model = MultinomialNB(alpha=5)"
   ]
  },
  {
   "cell_type": "markdown",
   "id": "a125e21b",
   "metadata": {},
   "source": [
    "#### Training the Model"
   ]
  },
  {
   "cell_type": "code",
   "execution_count": 183,
   "id": "b35ad71a",
   "metadata": {
    "scrolled": true
   },
   "outputs": [
    {
     "data": {
      "text/html": [
       "<style>#sk-container-id-26 {color: black;background-color: white;}#sk-container-id-26 pre{padding: 0;}#sk-container-id-26 div.sk-toggleable {background-color: white;}#sk-container-id-26 label.sk-toggleable__label {cursor: pointer;display: block;width: 100%;margin-bottom: 0;padding: 0.3em;box-sizing: border-box;text-align: center;}#sk-container-id-26 label.sk-toggleable__label-arrow:before {content: \"▸\";float: left;margin-right: 0.25em;color: #696969;}#sk-container-id-26 label.sk-toggleable__label-arrow:hover:before {color: black;}#sk-container-id-26 div.sk-estimator:hover label.sk-toggleable__label-arrow:before {color: black;}#sk-container-id-26 div.sk-toggleable__content {max-height: 0;max-width: 0;overflow: hidden;text-align: left;background-color: #f0f8ff;}#sk-container-id-26 div.sk-toggleable__content pre {margin: 0.2em;color: black;border-radius: 0.25em;background-color: #f0f8ff;}#sk-container-id-26 input.sk-toggleable__control:checked~div.sk-toggleable__content {max-height: 200px;max-width: 100%;overflow: auto;}#sk-container-id-26 input.sk-toggleable__control:checked~label.sk-toggleable__label-arrow:before {content: \"▾\";}#sk-container-id-26 div.sk-estimator input.sk-toggleable__control:checked~label.sk-toggleable__label {background-color: #d4ebff;}#sk-container-id-26 div.sk-label input.sk-toggleable__control:checked~label.sk-toggleable__label {background-color: #d4ebff;}#sk-container-id-26 input.sk-hidden--visually {border: 0;clip: rect(1px 1px 1px 1px);clip: rect(1px, 1px, 1px, 1px);height: 1px;margin: -1px;overflow: hidden;padding: 0;position: absolute;width: 1px;}#sk-container-id-26 div.sk-estimator {font-family: monospace;background-color: #f0f8ff;border: 1px dotted black;border-radius: 0.25em;box-sizing: border-box;margin-bottom: 0.5em;}#sk-container-id-26 div.sk-estimator:hover {background-color: #d4ebff;}#sk-container-id-26 div.sk-parallel-item::after {content: \"\";width: 100%;border-bottom: 1px solid gray;flex-grow: 1;}#sk-container-id-26 div.sk-label:hover label.sk-toggleable__label {background-color: #d4ebff;}#sk-container-id-26 div.sk-serial::before {content: \"\";position: absolute;border-left: 1px solid gray;box-sizing: border-box;top: 0;bottom: 0;left: 50%;z-index: 0;}#sk-container-id-26 div.sk-serial {display: flex;flex-direction: column;align-items: center;background-color: white;padding-right: 0.2em;padding-left: 0.2em;position: relative;}#sk-container-id-26 div.sk-item {position: relative;z-index: 1;}#sk-container-id-26 div.sk-parallel {display: flex;align-items: stretch;justify-content: center;background-color: white;position: relative;}#sk-container-id-26 div.sk-item::before, #sk-container-id-26 div.sk-parallel-item::before {content: \"\";position: absolute;border-left: 1px solid gray;box-sizing: border-box;top: 0;bottom: 0;left: 50%;z-index: -1;}#sk-container-id-26 div.sk-parallel-item {display: flex;flex-direction: column;z-index: 1;position: relative;background-color: white;}#sk-container-id-26 div.sk-parallel-item:first-child::after {align-self: flex-end;width: 50%;}#sk-container-id-26 div.sk-parallel-item:last-child::after {align-self: flex-start;width: 50%;}#sk-container-id-26 div.sk-parallel-item:only-child::after {width: 0;}#sk-container-id-26 div.sk-dashed-wrapped {border: 1px dashed gray;margin: 0 0.4em 0.5em 0.4em;box-sizing: border-box;padding-bottom: 0.4em;background-color: white;}#sk-container-id-26 div.sk-label label {font-family: monospace;font-weight: bold;display: inline-block;line-height: 1.2em;}#sk-container-id-26 div.sk-label-container {text-align: center;}#sk-container-id-26 div.sk-container {/* jupyter's `normalize.less` sets `[hidden] { display: none; }` but bootstrap.min.css set `[hidden] { display: none !important; }` so we also need the `!important` here to be able to override the default hidden behavior on the sphinx rendered scikit-learn.org. See: https://github.com/scikit-learn/scikit-learn/issues/21755 */display: inline-block !important;position: relative;}#sk-container-id-26 div.sk-text-repr-fallback {display: none;}</style><div id=\"sk-container-id-26\" class=\"sk-top-container\"><div class=\"sk-text-repr-fallback\"><pre>MultinomialNB(alpha=5)</pre><b>In a Jupyter environment, please rerun this cell to show the HTML representation or trust the notebook. <br />On GitHub, the HTML representation is unable to render, please try loading this page with nbviewer.org.</b></div><div class=\"sk-container\" hidden><div class=\"sk-item\"><div class=\"sk-estimator sk-toggleable\"><input class=\"sk-toggleable__control sk-hidden--visually\" id=\"sk-estimator-id-26\" type=\"checkbox\" checked><label for=\"sk-estimator-id-26\" class=\"sk-toggleable__label sk-toggleable__label-arrow\">MultinomialNB</label><div class=\"sk-toggleable__content\"><pre>MultinomialNB(alpha=5)</pre></div></div></div></div></div>"
      ],
      "text/plain": [
       "MultinomialNB(alpha=5)"
      ]
     },
     "execution_count": 183,
     "metadata": {},
     "output_type": "execute_result"
    }
   ],
   "source": [
    "model.fit(X_train,y_train)"
   ]
  },
  {
   "cell_type": "markdown",
   "id": "84553b15",
   "metadata": {},
   "source": [
    "#### Finding Performance Metrics"
   ]
  },
  {
   "cell_type": "code",
   "execution_count": 184,
   "id": "ffa1ce19",
   "metadata": {},
   "outputs": [
    {
     "data": {
      "text/plain": [
       "0.5901639344262295"
      ]
     },
     "execution_count": 184,
     "metadata": {},
     "output_type": "execute_result"
    }
   ],
   "source": [
    "model.score(X_test,y_test)"
   ]
  },
  {
   "cell_type": "code",
   "execution_count": 185,
   "id": "ea530779",
   "metadata": {},
   "outputs": [
    {
     "name": "stdout",
     "output_type": "stream",
     "text": [
      "              precision    recall  f1-score   support\n",
      "\n",
      "           0       0.82      0.70      0.75        46\n",
      "           1       0.00      0.00      0.00         1\n",
      "           3       0.25      0.11      0.15         9\n",
      "           4       0.17      0.60      0.26         5\n",
      "\n",
      "    accuracy                           0.59        61\n",
      "   macro avg       0.31      0.35      0.29        61\n",
      "weighted avg       0.67      0.59      0.61        61\n",
      "\n"
     ]
    },
    {
     "name": "stderr",
     "output_type": "stream",
     "text": [
      "/opt/anaconda3/lib/python3.9/site-packages/sklearn/metrics/_classification.py:1334: UndefinedMetricWarning: Precision and F-score are ill-defined and being set to 0.0 in labels with no predicted samples. Use `zero_division` parameter to control this behavior.\n",
      "  _warn_prf(average, modifier, msg_start, len(result))\n",
      "/opt/anaconda3/lib/python3.9/site-packages/sklearn/metrics/_classification.py:1334: UndefinedMetricWarning: Precision and F-score are ill-defined and being set to 0.0 in labels with no predicted samples. Use `zero_division` parameter to control this behavior.\n",
      "  _warn_prf(average, modifier, msg_start, len(result))\n",
      "/opt/anaconda3/lib/python3.9/site-packages/sklearn/metrics/_classification.py:1334: UndefinedMetricWarning: Precision and F-score are ill-defined and being set to 0.0 in labels with no predicted samples. Use `zero_division` parameter to control this behavior.\n",
      "  _warn_prf(average, modifier, msg_start, len(result))\n"
     ]
    }
   ],
   "source": [
    "y_predicted = model.predict(X_test)\n",
    "print(classification_report(y_test,y_predicted))"
   ]
  },
  {
   "cell_type": "code",
   "execution_count": 186,
   "id": "fe4eb85f",
   "metadata": {
    "scrolled": true
   },
   "outputs": [
    {
     "data": {
      "text/plain": [
       "Text(95.72222222222221, 0.5, 'Truth')"
      ]
     },
     "execution_count": 186,
     "metadata": {},
     "output_type": "execute_result"
    },
    {
     "data": {
      "image/png": "[encoded data removed]",
      "text/plain": [
       "<Figure size 1000x700 with 2 Axes>"
      ]
     },
     "metadata": {},
     "output_type": "display_data"
    }
   ],
   "source": [
    "cm = tf.math.confusion_matrix(labels=y_test,predictions=y_predicted)\n",
    "plt.figure(figsize = (10,7))\n",
    "sn.heatmap(cm, annot=True)\n",
    "plt.xlabel('Predicted')\n",
    "plt.ylabel('Truth')"
   ]
  },
  {
   "cell_type": "markdown",
   "id": "00c0d71b",
   "metadata": {},
   "source": [
    "### KNN Model"
   ]
  },
  {
   "cell_type": "markdown",
   "id": "26107f64",
   "metadata": {},
   "source": [
    "#### Building the Model"
   ]
  },
  {
   "cell_type": "code",
   "execution_count": 168,
   "id": "3990c7aa",
   "metadata": {},
   "outputs": [],
   "source": [
    "from sklearn.neighbors import KNeighborsClassifier \n",
    "model = KNeighborsClassifier(n_neighbors = 30)"
   ]
  },
  {
   "cell_type": "markdown",
   "id": "dbbbf969",
   "metadata": {},
   "source": [
    "#### Training the Model"
   ]
  },
  {
   "cell_type": "code",
   "execution_count": 169,
   "id": "34851ae7",
   "metadata": {},
   "outputs": [
    {
     "data": {
      "text/html": [
       "<style>#sk-container-id-24 {color: black;background-color: white;}#sk-container-id-24 pre{padding: 0;}#sk-container-id-24 div.sk-toggleable {background-color: white;}#sk-container-id-24 label.sk-toggleable__label {cursor: pointer;display: block;width: 100%;margin-bottom: 0;padding: 0.3em;box-sizing: border-box;text-align: center;}#sk-container-id-24 label.sk-toggleable__label-arrow:before {content: \"▸\";float: left;margin-right: 0.25em;color: #696969;}#sk-container-id-24 label.sk-toggleable__label-arrow:hover:before {color: black;}#sk-container-id-24 div.sk-estimator:hover label.sk-toggleable__label-arrow:before {color: black;}#sk-container-id-24 div.sk-toggleable__content {max-height: 0;max-width: 0;overflow: hidden;text-align: left;background-color: #f0f8ff;}#sk-container-id-24 div.sk-toggleable__content pre {margin: 0.2em;color: black;border-radius: 0.25em;background-color: #f0f8ff;}#sk-container-id-24 input.sk-toggleable__control:checked~div.sk-toggleable__content {max-height: 200px;max-width: 100%;overflow: auto;}#sk-container-id-24 input.sk-toggleable__control:checked~label.sk-toggleable__label-arrow:before {content: \"▾\";}#sk-container-id-24 div.sk-estimator input.sk-toggleable__control:checked~label.sk-toggleable__label {background-color: #d4ebff;}#sk-container-id-24 div.sk-label input.sk-toggleable__control:checked~label.sk-toggleable__label {background-color: #d4ebff;}#sk-container-id-24 input.sk-hidden--visually {border: 0;clip: rect(1px 1px 1px 1px);clip: rect(1px, 1px, 1px, 1px);height: 1px;margin: -1px;overflow: hidden;padding: 0;position: absolute;width: 1px;}#sk-container-id-24 div.sk-estimator {font-family: monospace;background-color: #f0f8ff;border: 1px dotted black;border-radius: 0.25em;box-sizing: border-box;margin-bottom: 0.5em;}#sk-container-id-24 div.sk-estimator:hover {background-color: #d4ebff;}#sk-container-id-24 div.sk-parallel-item::after {content: \"\";width: 100%;border-bottom: 1px solid gray;flex-grow: 1;}#sk-container-id-24 div.sk-label:hover label.sk-toggleable__label {background-color: #d4ebff;}#sk-container-id-24 div.sk-serial::before {content: \"\";position: absolute;border-left: 1px solid gray;box-sizing: border-box;top: 0;bottom: 0;left: 50%;z-index: 0;}#sk-container-id-24 div.sk-serial {display: flex;flex-direction: column;align-items: center;background-color: white;padding-right: 0.2em;padding-left: 0.2em;position: relative;}#sk-container-id-24 div.sk-item {position: relative;z-index: 1;}#sk-container-id-24 div.sk-parallel {display: flex;align-items: stretch;justify-content: center;background-color: white;position: relative;}#sk-container-id-24 div.sk-item::before, #sk-container-id-24 div.sk-parallel-item::before {content: \"\";position: absolute;border-left: 1px solid gray;box-sizing: border-box;top: 0;bottom: 0;left: 50%;z-index: -1;}#sk-container-id-24 div.sk-parallel-item {display: flex;flex-direction: column;z-index: 1;position: relative;background-color: white;}#sk-container-id-24 div.sk-parallel-item:first-child::after {align-self: flex-end;width: 50%;}#sk-container-id-24 div.sk-parallel-item:last-child::after {align-self: flex-start;width: 50%;}#sk-container-id-24 div.sk-parallel-item:only-child::after {width: 0;}#sk-container-id-24 div.sk-dashed-wrapped {border: 1px dashed gray;margin: 0 0.4em 0.5em 0.4em;box-sizing: border-box;padding-bottom: 0.4em;background-color: white;}#sk-container-id-24 div.sk-label label {font-family: monospace;font-weight: bold;display: inline-block;line-height: 1.2em;}#sk-container-id-24 div.sk-label-container {text-align: center;}#sk-container-id-24 div.sk-container {/* jupyter's `normalize.less` sets `[hidden] { display: none; }` but bootstrap.min.css set `[hidden] { display: none !important; }` so we also need the `!important` here to be able to override the default hidden behavior on the sphinx rendered scikit-learn.org. See: https://github.com/scikit-learn/scikit-learn/issues/21755 */display: inline-block !important;position: relative;}#sk-container-id-24 div.sk-text-repr-fallback {display: none;}</style><div id=\"sk-container-id-24\" class=\"sk-top-container\"><div class=\"sk-text-repr-fallback\"><pre>KNeighborsClassifier(n_neighbors=30)</pre><b>In a Jupyter environment, please rerun this cell to show the HTML representation or trust the notebook. <br />On GitHub, the HTML representation is unable to render, please try loading this page with nbviewer.org.</b></div><div class=\"sk-container\" hidden><div class=\"sk-item\"><div class=\"sk-estimator sk-toggleable\"><input class=\"sk-toggleable__control sk-hidden--visually\" id=\"sk-estimator-id-24\" type=\"checkbox\" checked><label for=\"sk-estimator-id-24\" class=\"sk-toggleable__label sk-toggleable__label-arrow\">KNeighborsClassifier</label><div class=\"sk-toggleable__content\"><pre>KNeighborsClassifier(n_neighbors=30)</pre></div></div></div></div></div>"
      ],
      "text/plain": [
       "KNeighborsClassifier(n_neighbors=30)"
      ]
     },
     "execution_count": 169,
     "metadata": {},
     "output_type": "execute_result"
    }
   ],
   "source": [
    "model.fit(X_train, y_train) "
   ]
  },
  {
   "cell_type": "markdown",
   "id": "82a6199d",
   "metadata": {},
   "source": [
    "#### Finding Performance Metrics"
   ]
  },
  {
   "cell_type": "code",
   "execution_count": 170,
   "id": "88134020",
   "metadata": {},
   "outputs": [
    {
     "data": {
      "text/plain": [
       "0.7540983606557377"
      ]
     },
     "execution_count": 170,
     "metadata": {},
     "output_type": "execute_result"
    }
   ],
   "source": [
    "model.score(X_test, y_test) "
   ]
  },
  {
   "cell_type": "code",
   "execution_count": 171,
   "id": "0746c18a",
   "metadata": {},
   "outputs": [
    {
     "name": "stdout",
     "output_type": "stream",
     "text": [
      "              precision    recall  f1-score   support\n",
      "\n",
      "           0       0.75      1.00      0.86        46\n",
      "           1       0.00      0.00      0.00         1\n",
      "           3       0.00      0.00      0.00         9\n",
      "           4       0.00      0.00      0.00         5\n",
      "\n",
      "    accuracy                           0.75        61\n",
      "   macro avg       0.19      0.25      0.21        61\n",
      "weighted avg       0.57      0.75      0.65        61\n",
      "\n"
     ]
    },
    {
     "name": "stderr",
     "output_type": "stream",
     "text": [
      "/opt/anaconda3/lib/python3.9/site-packages/sklearn/metrics/_classification.py:1334: UndefinedMetricWarning: Precision and F-score are ill-defined and being set to 0.0 in labels with no predicted samples. Use `zero_division` parameter to control this behavior.\n",
      "  _warn_prf(average, modifier, msg_start, len(result))\n",
      "/opt/anaconda3/lib/python3.9/site-packages/sklearn/metrics/_classification.py:1334: UndefinedMetricWarning: Precision and F-score are ill-defined and being set to 0.0 in labels with no predicted samples. Use `zero_division` parameter to control this behavior.\n",
      "  _warn_prf(average, modifier, msg_start, len(result))\n",
      "/opt/anaconda3/lib/python3.9/site-packages/sklearn/metrics/_classification.py:1334: UndefinedMetricWarning: Precision and F-score are ill-defined and being set to 0.0 in labels with no predicted samples. Use `zero_division` parameter to control this behavior.\n",
      "  _warn_prf(average, modifier, msg_start, len(result))\n"
     ]
    }
   ],
   "source": [
    "y_predicted = model.predict(X_test)\n",
    "print(classification_report(y_test,y_predicted))"
   ]
  },
  {
   "cell_type": "code",
   "execution_count": 172,
   "id": "f2a3cc60",
   "metadata": {},
   "outputs": [
    {
     "data": {
      "text/plain": [
       "Text(95.72222222222221, 0.5, 'Truth')"
      ]
     },
     "execution_count": 172,
     "metadata": {},
     "output_type": "execute_result"
    },
    {
     "data": {
      "image/png": "[encoded data removed]",
      "text/plain": [
       "<Figure size 1000x700 with 2 Axes>"
      ]
     },
     "metadata": {},
     "output_type": "display_data"
    }
   ],
   "source": [
    "cm = tf.math.confusion_matrix(labels=y_test,predictions=y_predicted)\n",
    "plt.figure(figsize = (10,7))\n",
    "sn.heatmap(cm, annot=True)\n",
    "plt.xlabel('Predicted')\n",
    "plt.ylabel('Truth')"
   ]
  },
  {
   "cell_type": "markdown",
   "id": "7a03eeb3",
   "metadata": {},
   "source": [
    "### MLPClassifier Model"
   ]
  },
  {
   "cell_type": "markdown",
   "id": "625e3335",
   "metadata": {},
   "source": [
    "#### Building the Model"
   ]
  },
  {
   "cell_type": "code",
   "execution_count": 19,
   "id": "7bfde491",
   "metadata": {},
   "outputs": [],
   "source": [
    "from sklearn.neural_network import MLPClassifier\n",
    "model = MLPClassifier(random_state=1, solver='adam',max_iter=1000, activation='relu',batch_size=100)"
   ]
  },
  {
   "cell_type": "markdown",
   "id": "adbb16e7",
   "metadata": {},
   "source": [
    "#### Training the Model"
   ]
  },
  {
   "cell_type": "code",
   "execution_count": 20,
   "id": "957d420f",
   "metadata": {
    "scrolled": true
   },
   "outputs": [
    {
     "data": {
      "text/html": [
       "<style>#sk-container-id-1 {color: black;background-color: white;}#sk-container-id-1 pre{padding: 0;}#sk-container-id-1 div.sk-toggleable {background-color: white;}#sk-container-id-1 label.sk-toggleable__label {cursor: pointer;display: block;width: 100%;margin-bottom: 0;padding: 0.3em;box-sizing: border-box;text-align: center;}#sk-container-id-1 label.sk-toggleable__label-arrow:before {content: \"▸\";float: left;margin-right: 0.25em;color: #696969;}#sk-container-id-1 label.sk-toggleable__label-arrow:hover:before {color: black;}#sk-container-id-1 div.sk-estimator:hover label.sk-toggleable__label-arrow:before {color: black;}#sk-container-id-1 div.sk-toggleable__content {max-height: 0;max-width: 0;overflow: hidden;text-align: left;background-color: #f0f8ff;}#sk-container-id-1 div.sk-toggleable__content pre {margin: 0.2em;color: black;border-radius: 0.25em;background-color: #f0f8ff;}#sk-container-id-1 input.sk-toggleable__control:checked~div.sk-toggleable__content {max-height: 200px;max-width: 100%;overflow: auto;}#sk-container-id-1 input.sk-toggleable__control:checked~label.sk-toggleable__label-arrow:before {content: \"▾\";}#sk-container-id-1 div.sk-estimator input.sk-toggleable__control:checked~label.sk-toggleable__label {background-color: #d4ebff;}#sk-container-id-1 div.sk-label input.sk-toggleable__control:checked~label.sk-toggleable__label {background-color: #d4ebff;}#sk-container-id-1 input.sk-hidden--visually {border: 0;clip: rect(1px 1px 1px 1px);clip: rect(1px, 1px, 1px, 1px);height: 1px;margin: -1px;overflow: hidden;padding: 0;position: absolute;width: 1px;}#sk-container-id-1 div.sk-estimator {font-family: monospace;background-color: #f0f8ff;border: 1px dotted black;border-radius: 0.25em;box-sizing: border-box;margin-bottom: 0.5em;}#sk-container-id-1 div.sk-estimator:hover {background-color: #d4ebff;}#sk-container-id-1 div.sk-parallel-item::after {content: \"\";width: 100%;border-bottom: 1px solid gray;flex-grow: 1;}#sk-container-id-1 div.sk-label:hover label.sk-toggleable__label {background-color: #d4ebff;}#sk-container-id-1 div.sk-serial::before {content: \"\";position: absolute;border-left: 1px solid gray;box-sizing: border-box;top: 0;bottom: 0;left: 50%;z-index: 0;}#sk-container-id-1 div.sk-serial {display: flex;flex-direction: column;align-items: center;background-color: white;padding-right: 0.2em;padding-left: 0.2em;position: relative;}#sk-container-id-1 div.sk-item {position: relative;z-index: 1;}#sk-container-id-1 div.sk-parallel {display: flex;align-items: stretch;justify-content: center;background-color: white;position: relative;}#sk-container-id-1 div.sk-item::before, #sk-container-id-1 div.sk-parallel-item::before {content: \"\";position: absolute;border-left: 1px solid gray;box-sizing: border-box;top: 0;bottom: 0;left: 50%;z-index: -1;}#sk-container-id-1 div.sk-parallel-item {display: flex;flex-direction: column;z-index: 1;position: relative;background-color: white;}#sk-container-id-1 div.sk-parallel-item:first-child::after {align-self: flex-end;width: 50%;}#sk-container-id-1 div.sk-parallel-item:last-child::after {align-self: flex-start;width: 50%;}#sk-container-id-1 div.sk-parallel-item:only-child::after {width: 0;}#sk-container-id-1 div.sk-dashed-wrapped {border: 1px dashed gray;margin: 0 0.4em 0.5em 0.4em;box-sizing: border-box;padding-bottom: 0.4em;background-color: white;}#sk-container-id-1 div.sk-label label {font-family: monospace;font-weight: bold;display: inline-block;line-height: 1.2em;}#sk-container-id-1 div.sk-label-container {text-align: center;}#sk-container-id-1 div.sk-container {/* jupyter's `normalize.less` sets `[hidden] { display: none; }` but bootstrap.min.css set `[hidden] { display: none !important; }` so we also need the `!important` here to be able to override the default hidden behavior on the sphinx rendered scikit-learn.org. See: https://github.com/scikit-learn/scikit-learn/issues/21755 */display: inline-block !important;position: relative;}#sk-container-id-1 div.sk-text-repr-fallback {display: none;}</style><div id=\"sk-container-id-1\" class=\"sk-top-container\"><div class=\"sk-text-repr-fallback\"><pre>MLPClassifier(batch_size=100, max_iter=1000, random_state=1)</pre><b>In a Jupyter environment, please rerun this cell to show the HTML representation or trust the notebook. <br />On GitHub, the HTML representation is unable to render, please try loading this page with nbviewer.org.</b></div><div class=\"sk-container\" hidden><div class=\"sk-item\"><div class=\"sk-estimator sk-toggleable\"><input class=\"sk-toggleable__control sk-hidden--visually\" id=\"sk-estimator-id-1\" type=\"checkbox\" checked><label for=\"sk-estimator-id-1\" class=\"sk-toggleable__label sk-toggleable__label-arrow\">MLPClassifier</label><div class=\"sk-toggleable__content\"><pre>MLPClassifier(batch_size=100, max_iter=1000, random_state=1)</pre></div></div></div></div></div>"
      ],
      "text/plain": [
       "MLPClassifier(batch_size=100, max_iter=1000, random_state=1)"
      ]
     },
     "execution_count": 20,
     "metadata": {},
     "output_type": "execute_result"
    }
   ],
   "source": [
    "model.fit(X_train,y_train)"
   ]
  },
  {
   "cell_type": "markdown",
   "id": "77a999d1",
   "metadata": {},
   "source": [
    "#### Finding Performance Metrics"
   ]
  },
  {
   "cell_type": "code",
   "execution_count": 21,
   "id": "7481b6d5",
   "metadata": {
    "scrolled": true
   },
   "outputs": [
    {
     "data": {
      "text/plain": [
       "0.8032786885245902"
      ]
     },
     "execution_count": 21,
     "metadata": {},
     "output_type": "execute_result"
    }
   ],
   "source": [
    "model.score(X_test,y_test)"
   ]
  },
  {
   "cell_type": "code",
   "execution_count": 23,
   "id": "ffd31054",
   "metadata": {},
   "outputs": [
    {
     "name": "stdout",
     "output_type": "stream",
     "text": [
      "              precision    recall  f1-score   support\n",
      "\n",
      "           0       0.87      0.89      0.88        46\n",
      "           1       0.00      0.00      0.00         1\n",
      "           3       0.50      0.67      0.57         9\n",
      "           4       1.00      0.40      0.57         5\n",
      "\n",
      "    accuracy                           0.80        61\n",
      "   macro avg       0.59      0.49      0.51        61\n",
      "weighted avg       0.81      0.80      0.80        61\n",
      "\n"
     ]
    },
    {
     "name": "stderr",
     "output_type": "stream",
     "text": [
      "/opt/anaconda3/lib/python3.9/site-packages/sklearn/metrics/_classification.py:1334: UndefinedMetricWarning: Precision and F-score are ill-defined and being set to 0.0 in labels with no predicted samples. Use `zero_division` parameter to control this behavior.\n",
      "  _warn_prf(average, modifier, msg_start, len(result))\n",
      "/opt/anaconda3/lib/python3.9/site-packages/sklearn/metrics/_classification.py:1334: UndefinedMetricWarning: Precision and F-score are ill-defined and being set to 0.0 in labels with no predicted samples. Use `zero_division` parameter to control this behavior.\n",
      "  _warn_prf(average, modifier, msg_start, len(result))\n",
      "/opt/anaconda3/lib/python3.9/site-packages/sklearn/metrics/_classification.py:1334: UndefinedMetricWarning: Precision and F-score are ill-defined and being set to 0.0 in labels with no predicted samples. Use `zero_division` parameter to control this behavior.\n",
      "  _warn_prf(average, modifier, msg_start, len(result))\n"
     ]
    }
   ],
   "source": [
    "from sklearn.metrics import classification_report\n",
    "y_predicted = model.predict(X_test)\n",
    "print(classification_report(y_test,y_predicted))"
   ]
  },
  {
   "cell_type": "code",
   "execution_count": 27,
   "id": "e8a86ef4",
   "metadata": {},
   "outputs": [
    {
     "data": {
      "image/png": "[encoded data removed]",
      "text/plain": [
       "<Figure size 1000x700 with 2 Axes>"
      ]
     },
     "metadata": {},
     "output_type": "display_data"
    }
   ],
   "source": [
    "import tensorflow as tf\n",
    "import seaborn as sn\n",
    "cm = tf.math.confusion_matrix(labels=y_test,predictions=y_predicted)\n",
    "plt.figure(figsize = (10,7))\n",
    "sn.heatmap(cm, annot=True, cmap='Blues', fmt='g')\n",
    "plt.xlabel('Predicted')\n",
    "plt.ylabel('Truth')\n",
    "plt.savefig('CP_cm.png')\n",
    "plt.show()"
   ]
  },
  {
   "cell_type": "code",
   "execution_count": null,
   "id": "0abead95",
   "metadata": {},
   "outputs": [],
   "source": []
  }
 ],
 "metadata": {
  "kernelspec": {
   "display_name": "Python 3 (ipykernel)",
   "language": "python",
   "name": "python3"
  },
  "language_info": {
   "codemirror_mode": {
    "name": "ipython",
    "version": 3
   },
   "file_extension": ".py",
   "mimetype": "text/x-python",
   "name": "python",
   "nbconvert_exporter": "python",
   "pygments_lexer": "ipython3",
   "version": "3.9.13"
  }
 },
 "nbformat": 4,
 "nbformat_minor": 5
}
