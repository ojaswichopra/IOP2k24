{
 "cells": [
  {
   "cell_type": "code",
   "execution_count": 4,
   "id": "3a94a97d",
   "metadata": {},
   "outputs": [],
   "source": [
    "import os\n",
    "import random\n",
    "import warnings \n",
    "warnings.filterwarnings('ignore')\n",
    "import pandas as pd\n",
    "import numpy as np\n",
    "import matplotlib.pyplot as plt\n",
    "from tqdm.notebook import tqdm\n",
    "import cv2\n",
    "import visualkeras\n",
    "\n",
    "from sklearn.utils import shuffle\n",
    "from sklearn.model_selection import train_test_split\n",
    "from sklearn.metrics import confusion_matrix, classification_report, ConfusionMatrixDisplay\n",
    "\n",
    "import tensorflow as tf\n",
    "from tensorflow.keras.layers import Dense, Dropout, Input, Conv2D, Flatten, GlobalAveragePooling2D, BatchNormalization, Activation, MaxPooling2D\n",
    "from tensorflow.keras.models import Model\n",
    "from tensorflow.keras.callbacks import EarlyStopping, ModelCheckpoint\n",
    "\n",
    "SEED = 15\n",
    "BATCH_SIZE = 8\n"
   ]
  },
  {
   "cell_type": "code",
   "execution_count": 6,
   "id": "b0870c30",
   "metadata": {},
   "outputs": [
    {
     "data": {
      "application/vnd.jupyter.widget-view+json": {
       "model_id": "60e33f2b971c4cd2a9e5f2cef9a8cd09",
       "version_major": 2,
       "version_minor": 0
      },
      "text/plain": [
       "images:   0%|          | 0/1499 [00:00<?, ?it/s]"
      ]
     },
     "metadata": {},
     "output_type": "display_data"
    },
    {
     "data": {
      "application/vnd.jupyter.widget-view+json": {
       "model_id": "f49eee61ba564e25a4fe68523c7fe006",
       "version_major": 2,
       "version_minor": 0
      },
      "text/plain": [
       "images:   0%|          | 0/1500 [00:00<?, ?it/s]"
      ]
     },
     "metadata": {},
     "output_type": "display_data"
    }
   ],
   "source": [
    "def create_images_list(path):\n",
    "    full_path = []\n",
    "    images = os.listdir(path)\n",
    "    for i in tqdm(images, desc = 'images' ):\n",
    "        full_path.append(os.path.join(path, i))\n",
    "        \n",
    "    return full_path\n",
    "\n",
    "\n",
    "data_healthy = create_images_list(\"../Dataset/down-syndrome-classification/healty/healty\")\n",
    "data_down = create_images_list(\"../Dataset/down-syndrome-classification/downSyndorme/downSyndrome\")"
   ]
  },
  {
   "cell_type": "code",
   "execution_count": 7,
   "id": "bff9503b",
   "metadata": {},
   "outputs": [],
   "source": [
    "disease_classes = {0:'healthy', 1 : 'down' }\n",
    "\n",
    "data_df = pd.concat([  pd.DataFrame({\"img\" : np.array(data_healthy) , \"label\": 0 }),\n",
    "                        pd.DataFrame({\"img\" : np.array(data_down) , \"label\": 1 }) ], ignore_index = True)\n",
    "\n",
    "\n",
    "data_df = shuffle(data_df).reset_index(drop = True)"
   ]
  },
  {
   "cell_type": "code",
   "execution_count": 8,
   "id": "33f4e783",
   "metadata": {},
   "outputs": [
    {
     "name": "stdout",
     "output_type": "stream",
     "text": [
      "train images:  2549\n",
      "test images:  450\n"
     ]
    }
   ],
   "source": [
    "X_train, X_test, y_train, y_test = train_test_split(data_df['img'], data_df['label'], test_size = 0.15,  random_state = SEED)\n",
    "\n",
    "print(\"train images: \", X_train.shape[0])\n",
    "print(\"test images: \", X_test.shape[0])"
   ]
  },
  {
   "cell_type": "code",
   "execution_count": 9,
   "id": "2eee34eb",
   "metadata": {},
   "outputs": [],
   "source": [
    "def img_preprocessing(image, label):\n",
    "    \n",
    "    img = tf.io.read_file(image)\n",
    "    img = tf.io.decode_jpeg(img, channels = 3)\n",
    "    img = tf.image.resize(img, size = (250,250))\n",
    "    img = img/255.0\n",
    "    \n",
    "    return img, label"
   ]
  },
  {
   "cell_type": "code",
   "execution_count": 10,
   "id": "e1fc8bba",
   "metadata": {},
   "outputs": [],
   "source": [
    "train_loader = tf.data.Dataset.from_tensor_slices(( X_train, y_train) )\n",
    "train_dataset = (train_loader.map(img_preprocessing).batch(BATCH_SIZE).shuffle(X_train.shape[0]).prefetch(BATCH_SIZE))\n",
    "\n",
    "test_loader = tf.data.Dataset.from_tensor_slices(( X_test, y_test) )\n",
    "test_dataset = (test_loader.map(img_preprocessing).batch(BATCH_SIZE).prefetch(BATCH_SIZE))"
   ]
  },
  {
   "cell_type": "code",
   "execution_count": 11,
   "id": "8219ca4e",
   "metadata": {},
   "outputs": [
    {
     "name": "stderr",
     "output_type": "stream",
     "text": [
      "WARNING:absl:At this time, the v2.11+ optimizer `tf.keras.optimizers.Adam` runs slowly on M1/M2 Macs, please use the legacy Keras optimizer instead, located at `tf.keras.optimizers.legacy.Adam`.\n"
     ]
    },
    {
     "name": "stdout",
     "output_type": "stream",
     "text": [
      "Model: \"model\"\n",
      "_________________________________________________________________\n",
      " Layer (type)                Output Shape              Param #   \n",
      "=================================================================\n",
      " input_1 (InputLayer)        [(None, 250, 250, 3)]     0         \n",
      "                                                                 \n",
      " conv2d (Conv2D)             (None, 250, 250, 32)      416       \n",
      "                                                                 \n",
      " batch_normalization (Batch  (None, 250, 250, 32)      128       \n",
      " Normalization)                                                  \n",
      "                                                                 \n",
      " activation (Activation)     (None, 250, 250, 32)      0         \n",
      "                                                                 \n",
      " max_pooling2d (MaxPooling2  (None, 125, 125, 32)      0         \n",
      " D)                                                              \n",
      "                                                                 \n",
      " conv2d_1 (Conv2D)           (None, 125, 125, 64)      8256      \n",
      "                                                                 \n",
      " batch_normalization_1 (Bat  (None, 125, 125, 64)      256       \n",
      " chNormalization)                                                \n",
      "                                                                 \n",
      " activation_1 (Activation)   (None, 125, 125, 64)      0         \n",
      "                                                                 \n",
      " max_pooling2d_1 (MaxPoolin  (None, 62, 62, 64)        0         \n",
      " g2D)                                                            \n",
      "                                                                 \n",
      " conv2d_2 (Conv2D)           (None, 62, 62, 128)       32896     \n",
      "                                                                 \n",
      " batch_normalization_2 (Bat  (None, 62, 62, 128)       512       \n",
      " chNormalization)                                                \n",
      "                                                                 \n",
      " activation_2 (Activation)   (None, 62, 62, 128)       0         \n",
      "                                                                 \n",
      " max_pooling2d_2 (MaxPoolin  (None, 31, 31, 128)       0         \n",
      " g2D)                                                            \n",
      "                                                                 \n",
      " conv2d_3 (Conv2D)           (None, 31, 31, 256)       131328    \n",
      "                                                                 \n",
      " batch_normalization_3 (Bat  (None, 31, 31, 256)       1024      \n",
      " chNormalization)                                                \n",
      "                                                                 \n",
      " activation_3 (Activation)   (None, 31, 31, 256)       0         \n",
      "                                                                 \n",
      " max_pooling2d_3 (MaxPoolin  (None, 15, 15, 256)       0         \n",
      " g2D)                                                            \n",
      "                                                                 \n",
      " global_average_pooling2d (  (None, 256)               0         \n",
      " GlobalAveragePooling2D)                                         \n",
      "                                                                 \n",
      " dropout (Dropout)           (None, 256)               0         \n",
      "                                                                 \n",
      " dense (Dense)               (None, 64)                16448     \n",
      "                                                                 \n",
      " dense_1 (Dense)             (None, 64)                4160      \n",
      "                                                                 \n",
      " dense_2 (Dense)             (None, 1)                 65        \n",
      "                                                                 \n",
      "=================================================================\n",
      "Total params: 195489 (763.63 KB)\n",
      "Trainable params: 194529 (759.88 KB)\n",
      "Non-trainable params: 960 (3.75 KB)\n",
      "_________________________________________________________________\n"
     ]
    }
   ],
   "source": [
    "In = Input(shape=(250, 250, 3))\n",
    "\n",
    "conv2 = Conv2D(32, 2, padding = 'same')(In)\n",
    "conv2 = BatchNormalization()(conv2)\n",
    "conv2 = Activation('elu')(conv2)\n",
    "conv2 = MaxPooling2D(2)(conv2)\n",
    "\n",
    "conv2 = Conv2D(64, 2, padding = 'same')(conv2)\n",
    "conv2 = BatchNormalization()(conv2)\n",
    "conv2 = Activation('elu')(conv2)\n",
    "conv2 = MaxPooling2D(2)(conv2)\n",
    "\n",
    "\n",
    "conv2 = Conv2D(128, 2, padding = 'same')(conv2)\n",
    "conv2 = BatchNormalization()(conv2)\n",
    "conv2 = Activation('elu')(conv2)\n",
    "conv2 = MaxPooling2D(2)(conv2)\n",
    "\n",
    "\n",
    "conv2 = Conv2D(256, 2, padding = 'same')(conv2)\n",
    "conv2 = BatchNormalization()(conv2)\n",
    "conv2 = Activation('elu')(conv2)\n",
    "conv2 = MaxPooling2D(2)(conv2)\n",
    "\n",
    "pool = GlobalAveragePooling2D()(conv2)\n",
    "drop = Dropout(0.6)(pool)\n",
    "dense1 = Dense(64, activation = 'relu')(drop)\n",
    "dense1 = Dense(64, activation = 'relu')(dense1)\n",
    "Out = Dense(1, activation = 'sigmoid')(dense1)\n",
    "\n",
    "model = Model(inputs = In, outputs = Out)\n",
    "\n",
    "model.compile(optimizer  = tf.keras.optimizers.Adam(), loss = 'binary_crossentropy', metrics = ['accuracy','AUC','Precision','Recall'])\n",
    "model.summary()"
   ]
  },
  {
   "cell_type": "code",
   "execution_count": 12,
   "id": "ebe66f28",
   "metadata": {
    "scrolled": true
   },
   "outputs": [
    {
     "name": "stdout",
     "output_type": "stream",
     "text": [
      "Epoch 1/100\n",
      "319/319 [==============================] - 115s 348ms/step - loss: 0.6416 - accuracy: 0.6328 - auc: 0.6872 - precision: 0.6280 - recall: 0.6478\n",
      "Epoch 2/100\n",
      "319/319 [==============================] - 114s 352ms/step - loss: 0.6090 - accuracy: 0.6712 - auc: 0.7290 - precision: 0.6619 - recall: 0.6973\n",
      "Epoch 3/100\n",
      "319/319 [==============================] - 109s 337ms/step - loss: 0.5915 - accuracy: 0.6818 - auc: 0.7479 - precision: 0.6627 - recall: 0.7382\n",
      "Epoch 4/100\n",
      "319/319 [==============================] - 127s 395ms/step - loss: 0.5857 - accuracy: 0.7015 - auc: 0.7596 - precision: 0.6964 - recall: 0.7123\n",
      "Epoch 5/100\n",
      "319/319 [==============================] - 116s 361ms/step - loss: 0.5796 - accuracy: 0.6909 - auc: 0.7661 - precision: 0.6766 - recall: 0.7288\n",
      "Epoch 6/100\n",
      "319/319 [==============================] - 119s 368ms/step - loss: 0.5749 - accuracy: 0.7038 - auc: 0.7694 - precision: 0.6908 - recall: 0.7358\n",
      "Epoch 7/100\n",
      "319/319 [==============================] - 148s 460ms/step - loss: 0.5730 - accuracy: 0.7089 - auc: 0.7747 - precision: 0.6957 - recall: 0.7406\n",
      "Epoch 8/100\n",
      "319/319 [==============================] - 1412s 4s/step - loss: 0.5663 - accuracy: 0.7144 - auc: 0.7772 - precision: 0.6991 - recall: 0.7508\n",
      "Epoch 9/100\n",
      "319/319 [==============================] - 652s 2s/step - loss: 0.5582 - accuracy: 0.7054 - auc: 0.7826 - precision: 0.6940 - recall: 0.7327\n",
      "Epoch 10/100\n",
      "319/319 [==============================] - 739s 2s/step - loss: 0.5528 - accuracy: 0.7234 - auc: 0.7912 - precision: 0.7062 - recall: 0.7634\n",
      "Epoch 11/100\n",
      "319/319 [==============================] - 123s 380ms/step - loss: 0.5557 - accuracy: 0.7160 - auc: 0.7859 - precision: 0.7012 - recall: 0.7508\n",
      "Epoch 12/100\n",
      "319/319 [==============================] - 122s 378ms/step - loss: 0.5590 - accuracy: 0.7120 - auc: 0.7846 - precision: 0.6993 - recall: 0.7421\n",
      "Epoch 13/100\n",
      "319/319 [==============================] - 156s 485ms/step - loss: 0.5520 - accuracy: 0.7164 - auc: 0.7919 - precision: 0.7069 - recall: 0.7374\n",
      "Epoch 14/100\n",
      "319/319 [==============================] - 115s 355ms/step - loss: 0.5558 - accuracy: 0.7199 - auc: 0.7887 - precision: 0.7114 - recall: 0.7382\n",
      "Epoch 15/100\n",
      "319/319 [==============================] - 115s 356ms/step - loss: 0.5444 - accuracy: 0.7250 - auc: 0.7982 - precision: 0.7113 - recall: 0.7555\n",
      "Epoch 16/100\n",
      "319/319 [==============================] - 122s 378ms/step - loss: 0.5395 - accuracy: 0.7250 - auc: 0.8029 - precision: 0.7110 - recall: 0.7563\n",
      "Epoch 17/100\n",
      "319/319 [==============================] - 114s 353ms/step - loss: 0.5401 - accuracy: 0.7250 - auc: 0.8030 - precision: 0.7104 - recall: 0.7579\n",
      "Epoch 18/100\n",
      "319/319 [==============================] - 136s 422ms/step - loss: 0.5376 - accuracy: 0.7289 - auc: 0.8042 - precision: 0.7229 - recall: 0.7406\n",
      "Epoch 19/100\n",
      "319/319 [==============================] - 119s 367ms/step - loss: 0.5315 - accuracy: 0.7324 - auc: 0.8086 - precision: 0.7248 - recall: 0.7476\n",
      "Epoch 20/100\n",
      "319/319 [==============================] - 206s 643ms/step - loss: 0.5313 - accuracy: 0.7313 - auc: 0.8089 - precision: 0.7218 - recall: 0.7508\n",
      "Epoch 21/100\n",
      "319/319 [==============================] - 115s 357ms/step - loss: 0.5307 - accuracy: 0.7328 - auc: 0.8103 - precision: 0.7155 - recall: 0.7712\n",
      "Epoch 22/100\n",
      "319/319 [==============================] - 132s 410ms/step - loss: 0.5295 - accuracy: 0.7309 - auc: 0.8081 - precision: 0.7187 - recall: 0.7571\n",
      "Epoch 23/100\n",
      "319/319 [==============================] - 371s 1s/step - loss: 0.5228 - accuracy: 0.7321 - auc: 0.8147 - precision: 0.7164 - recall: 0.7665\n",
      "Epoch 24/100\n",
      "319/319 [==============================] - 180s 559ms/step - loss: 0.5214 - accuracy: 0.7336 - auc: 0.8160 - precision: 0.7241 - recall: 0.7531\n",
      "Epoch 25/100\n",
      "319/319 [==============================] - 118s 365ms/step - loss: 0.5236 - accuracy: 0.7379 - auc: 0.8165 - precision: 0.7309 - recall: 0.7516\n",
      "Epoch 26/100\n",
      "319/319 [==============================] - 145s 452ms/step - loss: 0.5135 - accuracy: 0.7466 - auc: 0.8219 - precision: 0.7368 - recall: 0.7657\n",
      "Epoch 27/100\n",
      "319/319 [==============================] - 138s 428ms/step - loss: 0.5190 - accuracy: 0.7336 - auc: 0.8187 - precision: 0.7234 - recall: 0.7547\n",
      "Epoch 28/100\n",
      "319/319 [==============================] - 133s 410ms/step - loss: 0.5090 - accuracy: 0.7513 - auc: 0.8265 - precision: 0.7381 - recall: 0.7775\n",
      "Epoch 29/100\n",
      "319/319 [==============================] - 128s 397ms/step - loss: 0.5121 - accuracy: 0.7399 - auc: 0.8235 - precision: 0.7316 - recall: 0.7563\n",
      "Epoch 30/100\n",
      "319/319 [==============================] - 119s 369ms/step - loss: 0.5119 - accuracy: 0.7426 - auc: 0.8239 - precision: 0.7384 - recall: 0.7500\n",
      "Epoch 31/100\n",
      "319/319 [==============================] - 119s 370ms/step - loss: 0.5064 - accuracy: 0.7509 - auc: 0.8297 - precision: 0.7479 - recall: 0.7555\n",
      "Epoch 32/100\n",
      "319/319 [==============================] - 139s 432ms/step - loss: 0.5094 - accuracy: 0.7430 - auc: 0.8250 - precision: 0.7342 - recall: 0.7602\n",
      "Epoch 33/100\n",
      "319/319 [==============================] - 139s 429ms/step - loss: 0.4993 - accuracy: 0.7525 - auc: 0.8327 - precision: 0.7434 - recall: 0.7697\n",
      "Epoch 34/100\n",
      "319/319 [==============================] - 124s 385ms/step - loss: 0.4992 - accuracy: 0.7517 - auc: 0.8332 - precision: 0.7452 - recall: 0.7634\n",
      "Epoch 35/100\n",
      "319/319 [==============================] - 132s 410ms/step - loss: 0.4990 - accuracy: 0.7513 - auc: 0.8344 - precision: 0.7391 - recall: 0.7752\n",
      "Epoch 36/100\n",
      "319/319 [==============================] - 123s 380ms/step - loss: 0.4955 - accuracy: 0.7528 - auc: 0.8369 - precision: 0.7447 - recall: 0.7681\n",
      "Epoch 37/100\n",
      "319/319 [==============================] - 129s 399ms/step - loss: 0.4886 - accuracy: 0.7623 - auc: 0.8423 - precision: 0.7489 - recall: 0.7877\n",
      "Epoch 38/100\n",
      "319/319 [==============================] - 122s 377ms/step - loss: 0.4893 - accuracy: 0.7611 - auc: 0.8421 - precision: 0.7491 - recall: 0.7838\n",
      "Epoch 39/100\n",
      "319/319 [==============================] - 118s 365ms/step - loss: 0.4864 - accuracy: 0.7666 - auc: 0.8442 - precision: 0.7578 - recall: 0.7822\n",
      "Epoch 40/100\n",
      "319/319 [==============================] - 126s 392ms/step - loss: 0.4871 - accuracy: 0.7619 - auc: 0.8429 - precision: 0.7556 - recall: 0.7728\n",
      "Epoch 41/100\n",
      "319/319 [==============================] - 127s 393ms/step - loss: 0.4734 - accuracy: 0.7662 - auc: 0.8509 - precision: 0.7592 - recall: 0.7783\n",
      "Epoch 42/100\n",
      "319/319 [==============================] - 129s 401ms/step - loss: 0.4906 - accuracy: 0.7556 - auc: 0.8402 - precision: 0.7416 - recall: 0.7830\n",
      "Epoch 43/100\n",
      "319/319 [==============================] - 118s 366ms/step - loss: 0.4748 - accuracy: 0.7740 - auc: 0.8521 - precision: 0.7609 - recall: 0.7980\n",
      "Epoch 44/100\n",
      "319/319 [==============================] - 122s 379ms/step - loss: 0.4747 - accuracy: 0.7725 - auc: 0.8530 - precision: 0.7633 - recall: 0.7885\n",
      "Epoch 45/100\n",
      "319/319 [==============================] - 124s 384ms/step - loss: 0.4704 - accuracy: 0.7772 - auc: 0.8537 - precision: 0.7671 - recall: 0.7948\n",
      "Epoch 46/100\n",
      "319/319 [==============================] - 117s 362ms/step - loss: 0.4681 - accuracy: 0.7736 - auc: 0.8557 - precision: 0.7623 - recall: 0.7940\n",
      "Epoch 47/100\n",
      "319/319 [==============================] - 114s 353ms/step - loss: 0.4723 - accuracy: 0.7709 - auc: 0.8531 - precision: 0.7563 - recall: 0.7980\n",
      "Epoch 48/100\n",
      "319/319 [==============================] - 135s 420ms/step - loss: 0.4680 - accuracy: 0.7697 - auc: 0.8563 - precision: 0.7577 - recall: 0.7917\n",
      "Epoch 49/100\n",
      "319/319 [==============================] - 130s 404ms/step - loss: 0.4633 - accuracy: 0.7744 - auc: 0.8586 - precision: 0.7610 - recall: 0.7987\n",
      "Epoch 50/100\n",
      "319/319 [==============================] - 114s 355ms/step - loss: 0.4577 - accuracy: 0.7764 - auc: 0.8643 - precision: 0.7639 - recall: 0.7987\n",
      "Epoch 51/100\n",
      "319/319 [==============================] - 115s 357ms/step - loss: 0.4612 - accuracy: 0.7764 - auc: 0.8605 - precision: 0.7671 - recall: 0.7925\n",
      "Epoch 52/100\n",
      "319/319 [==============================] - 122s 378ms/step - loss: 0.4529 - accuracy: 0.7787 - auc: 0.8660 - precision: 0.7682 - recall: 0.7972\n",
      "Epoch 53/100\n",
      "319/319 [==============================] - 126s 390ms/step - loss: 0.4503 - accuracy: 0.7787 - auc: 0.8672 - precision: 0.7654 - recall: 0.8027\n",
      "Epoch 54/100\n",
      "319/319 [==============================] - 118s 367ms/step - loss: 0.4592 - accuracy: 0.7811 - auc: 0.8632 - precision: 0.7738 - recall: 0.7932\n",
      "Epoch 55/100\n",
      "319/319 [==============================] - 117s 363ms/step - loss: 0.4500 - accuracy: 0.7882 - auc: 0.8679 - precision: 0.7798 - recall: 0.8019\n",
      "Epoch 56/100\n",
      "319/319 [==============================] - 121s 375ms/step - loss: 0.4419 - accuracy: 0.7905 - auc: 0.8726 - precision: 0.7762 - recall: 0.8153\n",
      "Epoch 57/100\n",
      "319/319 [==============================] - 123s 382ms/step - loss: 0.4516 - accuracy: 0.7834 - auc: 0.8680 - precision: 0.7778 - recall: 0.7925\n",
      "Epoch 58/100\n",
      "319/319 [==============================] - 124s 384ms/step - loss: 0.4483 - accuracy: 0.7803 - auc: 0.8686 - precision: 0.7705 - recall: 0.7972\n",
      "Epoch 59/100\n",
      "319/319 [==============================] - 120s 373ms/step - loss: 0.4432 - accuracy: 0.7850 - auc: 0.8725 - precision: 0.7738 - recall: 0.8042\n",
      "Epoch 60/100\n",
      "319/319 [==============================] - 115s 359ms/step - loss: 0.4324 - accuracy: 0.7948 - auc: 0.8785 - precision: 0.7835 - recall: 0.8137\n",
      "Epoch 61/100\n",
      "319/319 [==============================] - 116s 361ms/step - loss: 0.4308 - accuracy: 0.7952 - auc: 0.8799 - precision: 0.7811 - recall: 0.8192\n",
      "Epoch 62/100\n",
      "319/319 [==============================] - 116s 361ms/step - loss: 0.4446 - accuracy: 0.7933 - auc: 0.8745 - precision: 0.7841 - recall: 0.8082\n",
      "Epoch 63/100\n",
      "319/319 [==============================] - 115s 356ms/step - loss: 0.4345 - accuracy: 0.7917 - auc: 0.8782 - precision: 0.7805 - recall: 0.8105\n",
      "Epoch 64/100\n",
      "319/319 [==============================] - 114s 355ms/step - loss: 0.4293 - accuracy: 0.8058 - auc: 0.8805 - precision: 0.7950 - recall: 0.8231\n",
      "Epoch 65/100\n",
      "319/319 [==============================] - 114s 355ms/step - loss: 0.4317 - accuracy: 0.8019 - auc: 0.8801 - precision: 0.7864 - recall: 0.8278\n",
      "Epoch 66/100\n",
      "319/319 [==============================] - 121s 377ms/step - loss: 0.4196 - accuracy: 0.8074 - auc: 0.8881 - precision: 0.7938 - recall: 0.8294\n",
      "Epoch 67/100\n",
      "319/319 [==============================] - 120s 373ms/step - loss: 0.4234 - accuracy: 0.8082 - auc: 0.8855 - precision: 0.7964 - recall: 0.8270\n",
      "Epoch 68/100\n",
      "319/319 [==============================] - 118s 365ms/step - loss: 0.4184 - accuracy: 0.8015 - auc: 0.8859 - precision: 0.7969 - recall: 0.8082\n",
      "Epoch 69/100\n",
      "319/319 [==============================] - 118s 365ms/step - loss: 0.4161 - accuracy: 0.8066 - auc: 0.8894 - precision: 0.7971 - recall: 0.8215\n",
      "Epoch 70/100\n",
      "319/319 [==============================] - 117s 363ms/step - loss: 0.4131 - accuracy: 0.8117 - auc: 0.8904 - precision: 0.8009 - recall: 0.8286\n",
      "Epoch 71/100\n",
      "319/319 [==============================] - 116s 360ms/step - loss: 0.4131 - accuracy: 0.8066 - auc: 0.8900 - precision: 0.7976 - recall: 0.8208\n",
      "Epoch 72/100\n",
      "319/319 [==============================] - 117s 365ms/step - loss: 0.4118 - accuracy: 0.8133 - auc: 0.8912 - precision: 0.7997 - recall: 0.8349\n",
      "Epoch 73/100\n",
      "319/319 [==============================] - 116s 359ms/step - loss: 0.4143 - accuracy: 0.8125 - auc: 0.8921 - precision: 0.7967 - recall: 0.8381\n",
      "Epoch 74/100\n",
      "319/319 [==============================] - 116s 362ms/step - loss: 0.4048 - accuracy: 0.8054 - auc: 0.8952 - precision: 0.7935 - recall: 0.8247\n",
      "Epoch 75/100\n",
      "319/319 [==============================] - 120s 374ms/step - loss: 0.4071 - accuracy: 0.8082 - auc: 0.8943 - precision: 0.7982 - recall: 0.8239\n",
      "Epoch 76/100\n",
      "319/319 [==============================] - 117s 364ms/step - loss: 0.3986 - accuracy: 0.8133 - auc: 0.8998 - precision: 0.8006 - recall: 0.8333\n",
      "Epoch 77/100\n",
      "319/319 [==============================] - 118s 366ms/step - loss: 0.4063 - accuracy: 0.8058 - auc: 0.8939 - precision: 0.7937 - recall: 0.8255\n",
      "Epoch 78/100\n",
      "319/319 [==============================] - 116s 359ms/step - loss: 0.3955 - accuracy: 0.8191 - auc: 0.8999 - precision: 0.8103 - recall: 0.8325\n",
      "Epoch 79/100\n",
      "319/319 [==============================] - 115s 356ms/step - loss: 0.4010 - accuracy: 0.8101 - auc: 0.8973 - precision: 0.7985 - recall: 0.8286\n",
      "Epoch 80/100\n",
      "319/319 [==============================] - 115s 356ms/step - loss: 0.3909 - accuracy: 0.8227 - auc: 0.9030 - precision: 0.8116 - recall: 0.8396\n",
      "Epoch 81/100\n",
      "319/319 [==============================] - 115s 356ms/step - loss: 0.3848 - accuracy: 0.8227 - auc: 0.9061 - precision: 0.8111 - recall: 0.8404\n",
      "Epoch 82/100\n",
      "319/319 [==============================] - 115s 356ms/step - loss: 0.3951 - accuracy: 0.8164 - auc: 0.9005 - precision: 0.8036 - recall: 0.8365\n",
      "Epoch 83/100\n",
      "319/319 [==============================] - 115s 356ms/step - loss: 0.3767 - accuracy: 0.8254 - auc: 0.9104 - precision: 0.8135 - recall: 0.8436\n",
      "Epoch 84/100\n",
      "319/319 [==============================] - 115s 356ms/step - loss: 0.3907 - accuracy: 0.8195 - auc: 0.9044 - precision: 0.8071 - recall: 0.8388\n",
      "Epoch 85/100\n",
      "319/319 [==============================] - 115s 357ms/step - loss: 0.3921 - accuracy: 0.8246 - auc: 0.9022 - precision: 0.8109 - recall: 0.8459\n",
      "Epoch 86/100\n",
      "319/319 [==============================] - 115s 357ms/step - loss: 0.3783 - accuracy: 0.8227 - auc: 0.9094 - precision: 0.8116 - recall: 0.8396\n",
      "Epoch 87/100\n",
      "319/319 [==============================] - 115s 357ms/step - loss: 0.3801 - accuracy: 0.8286 - auc: 0.9089 - precision: 0.8204 - recall: 0.8404\n",
      "Epoch 88/100\n",
      "319/319 [==============================] - 115s 359ms/step - loss: 0.3874 - accuracy: 0.8246 - auc: 0.9036 - precision: 0.8062 - recall: 0.8538\n",
      "Epoch 89/100\n",
      "319/319 [==============================] - 115s 357ms/step - loss: 0.3773 - accuracy: 0.8246 - auc: 0.9086 - precision: 0.8095 - recall: 0.8483\n",
      "Epoch 90/100\n",
      "319/319 [==============================] - 115s 357ms/step - loss: 0.3788 - accuracy: 0.8231 - auc: 0.9098 - precision: 0.8052 - recall: 0.8514\n",
      "Epoch 91/100\n",
      "319/319 [==============================] - 115s 356ms/step - loss: 0.3783 - accuracy: 0.8203 - auc: 0.9092 - precision: 0.8112 - recall: 0.8341\n"
     ]
    }
   ],
   "source": [
    "my_callbacks = [EarlyStopping(monitor = 'loss', patience = 8, min_delta = 0.0001)]\n",
    "\n",
    "hist = model.fit(train_dataset, epochs = 100, verbose =1, callbacks = my_callbacks)"
   ]
  },
  {
   "cell_type": "code",
   "execution_count": 13,
   "id": "ba6e0ef0",
   "metadata": {
    "scrolled": true
   },
   "outputs": [
    {
     "name": "stdout",
     "output_type": "stream",
     "text": [
      "57/57 [==============================] - 6s 94ms/step - loss: 0.4607 - accuracy: 0.7933 - auc: 0.8686 - precision: 0.8111 - recall: 0.7719\n"
     ]
    }
   ],
   "source": [
    "test_eval = model.evaluate(test_dataset)"
   ]
  },
  {
   "cell_type": "code",
   "execution_count": 14,
   "id": "c27f6a27",
   "metadata": {},
   "outputs": [
    {
     "name": "stdout",
     "output_type": "stream",
     "text": [
      "57/57 [==============================] - 5s 86ms/step\n"
     ]
    }
   ],
   "source": [
    "test_take1 =  test_dataset.take(-1)\n",
    "test_take1_ = list(test_take1)\n",
    "pred = model.predict(test_take1)\n",
    "pred_ = np.round(pred)\n",
    "\n",
    "y_test_take = []\n",
    "for x in range(len(test_take1_)):\n",
    "    y_test_take.extend(test_take1_[x][1].numpy())"
   ]
  },
  {
   "cell_type": "code",
   "execution_count": 15,
   "id": "0f54afa1",
   "metadata": {},
   "outputs": [
    {
     "name": "stdout",
     "output_type": "stream",
     "text": [
      "[[181  41]\n",
      " [ 52 176]]\n"
     ]
    }
   ],
   "source": [
    "cm = confusion_matrix(y_test_take, pred_)\n",
    "print(cm)"
   ]
  },
  {
   "cell_type": "code",
   "execution_count": 16,
   "id": "f2026828",
   "metadata": {},
   "outputs": [
    {
     "name": "stdout",
     "output_type": "stream",
     "text": [
      "              precision    recall  f1-score   support\n",
      "\n",
      "           0       0.78      0.82      0.80       222\n",
      "           1       0.81      0.77      0.79       228\n",
      "\n",
      "    accuracy                           0.79       450\n",
      "   macro avg       0.79      0.79      0.79       450\n",
      "weighted avg       0.79      0.79      0.79       450\n",
      "\n"
     ]
    }
   ],
   "source": [
    "cr = classification_report(np.array(y_test_take), pred_)\n",
    "print(cr)"
   ]
  },
  {
   "cell_type": "code",
   "execution_count": 17,
   "id": "e73d9b06",
   "metadata": {},
   "outputs": [],
   "source": [
    "import pickle\n",
    "filename = 'down.sav'\n",
    "pickle.dump(model, open(filename, 'wb'))"
   ]
  }
 ],
 "metadata": {
  "kernelspec": {
   "display_name": "Python 3 (ipykernel)",
   "language": "python",
   "name": "python3"
  },
  "language_info": {
   "codemirror_mode": {
    "name": "ipython",
    "version": 3
   },
   "file_extension": ".py",
   "mimetype": "text/x-python",
   "name": "python",
   "nbconvert_exporter": "python",
   "pygments_lexer": "ipython3",
   "version": "3.9.13"
  }
 },
 "nbformat": 4,
 "nbformat_minor": 5
}
